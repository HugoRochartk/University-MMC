{
 "cells": [
  {
   "cell_type": "code",
   "execution_count": 37,
   "id": "ae0097b8",
   "metadata": {},
   "outputs": [
    {
     "data": {
      "text/plain": [
       "(array([176.27502282, 107.76237238,  20.06916293]),\n",
       " matrix([[ 0.69655167,  0.12282659, -0.70691542],\n",
       "         [ 0.13494668, -0.99008273, -0.03905863],\n",
       "         [ 0.70470219,  0.06818953,  0.70621882]]),\n",
       " 0.9340061488417185)"
      ]
     },
     "execution_count": 37,
     "metadata": {},
     "output_type": "execute_result"
    }
   ],
   "source": [
    "import numpy as np\n",
    "import numpy.linalg as linalg\n",
    "\n",
    "\n",
    "S = np.matrix( [[ 97.18075394 , 4.01869602 , 77.40991318],      # B: ixN  BT: Nxi   : S = B*BT : i*i  : i = 3\n",
    "                [ 4.01869602 ,108.87624652 , 8.93428697],\n",
    "                [ 77.40991318 , 8.93428697 , 98.049557675]])\n",
    "              \n",
    "              \n",
    "valsprops, vetsprops = np.linalg.eig(S)\n",
    "\n",
    "ids_ord = valsprops.argsort()[::-1]\n",
    "\n",
    "\n",
    "valsprops = (valsprops[ids_ord])\n",
    "\n",
    "vetsprops = vetsprops[:, ids_ord]\n",
    "\n",
    "traço = np.sum(valsprops)\n",
    "\n",
    "valsprops, vetsprops, (valsprops[0] + valsprops[1])/traço\n"
   ]
  },
  {
   "cell_type": "code",
   "execution_count": 38,
   "id": "2c7c3904",
   "metadata": {},
   "outputs": [
    {
     "data": {
      "text/plain": [
       "(array([176.27502282, 107.76237238]),\n",
       " matrix([[ 0.69655167,  0.12282659],\n",
       "         [ 0.13494668, -0.99008273],\n",
       "         [ 0.70470219,  0.06818953]]))"
      ]
     },
     "execution_count": 38,
     "metadata": {},
     "output_type": "execute_result"
    }
   ],
   "source": [
    "valsprops = valsprops[0:2]\n",
    "vetsprops = vetsprops[:, 0:2]\n",
    "valsprops, vetsprops"
   ]
  },
  {
   "cell_type": "code",
   "execution_count": 39,
   "id": "b1fe6628",
   "metadata": {},
   "outputs": [
    {
     "data": {
      "text/plain": [
       "matrix([[0.00642671],\n",
       "        [2.18066581],\n",
       "        [0.12703848]])"
      ]
     },
     "execution_count": 39,
     "metadata": {},
     "output_type": "execute_result"
    }
   ],
   "source": [
    "phi = np.array([0.09710545, 2.18567601, 0.0364491])\n",
    "phi = phi.reshape(1,3)\n",
    "\n",
    "\n",
    "L = []\n",
    "for i in range(2):\n",
    "    L.append([phi.dot(vetsprops[:, i]).item()])\n",
    "    \n",
    "\n",
    "C = np.array(L)\n",
    "proj = vetsprops.dot(C)\n",
    "proj\n",
    "\n",
    "    \n",
    "    "
   ]
  },
  {
   "cell_type": "markdown",
   "id": "7aa63ec7",
   "metadata": {},
   "source": [
    "A USAR SVD"
   ]
  },
  {
   "cell_type": "code",
   "execution_count": 40,
   "id": "4dfd0738",
   "metadata": {},
   "outputs": [
    {
     "data": {
      "text/plain": [
       "(array([31072.88367126, 11612.72890057,   402.77130086]),\n",
       " matrix([[-0.69655167,  0.12282659, -0.70691542],\n",
       "         [-0.13494668, -0.99008273, -0.03905863],\n",
       "         [-0.70470219,  0.06818953,  0.70621882]]))"
      ]
     },
     "execution_count": 40,
     "metadata": {},
     "output_type": "execute_result"
    }
   ],
   "source": [
    "e_faces, sigma, v = np.linalg.svd(S.transpose(), full_matrices=False)\n",
    "val_prop = sigma*sigma\n",
    "traco = sum(val_prop)\n",
    "\n",
    "\n",
    "val_prop, v.transpose()\n",
    "\n",
    "\n",
    "\n",
    "\n",
    "\n",
    "\n",
    "\n",
    "\n"
   ]
  },
  {
   "cell_type": "code",
   "execution_count": 41,
   "id": "179d5e3e",
   "metadata": {},
   "outputs": [
    {
     "data": {
      "text/plain": [
       "(array([31072.88367126, 11612.72890057]),\n",
       " matrix([[-0.69655167,  0.12282659],\n",
       "         [-0.13494668, -0.99008273],\n",
       "         [-0.70470219,  0.06818953]]))"
      ]
     },
     "execution_count": 41,
     "metadata": {},
     "output_type": "execute_result"
    }
   ],
   "source": [
    "confianca = 0\n",
    "cumsum = 0\n",
    "i = 0\n",
    "while confianca < 0.9:\n",
    "    cumsum = cumsum + val_prop[i]\n",
    "    confianca = cumsum / traco\n",
    "    i+=1\n",
    "\n",
    "\n",
    "\n",
    "principal_components= (v.transpose())[:, 0:i]\n",
    "val_prop = val_prop[0:i]\n",
    "val_prop, principal_components\n",
    "\n"
   ]
  },
  {
   "cell_type": "code",
   "execution_count": 42,
   "id": "fc8e3708",
   "metadata": {},
   "outputs": [
    {
     "data": {
      "text/plain": [
       "matrix([[0.00642671],\n",
       "        [2.18066581],\n",
       "        [0.12703848]])"
      ]
     },
     "execution_count": 42,
     "metadata": {},
     "output_type": "execute_result"
    }
   ],
   "source": [
    "phi = np.array([0.09710545, 2.18567601, 0.0364491])\n",
    "phi = phi.reshape(1,3)\n",
    "\n",
    "arr = []\n",
    "for j in range(i):\n",
    "    Ci = (np.dot(phi, principal_components[:, j])).item()\n",
    "    arr.append([Ci])\n",
    "C = np.array(arr)\n",
    "\n",
    "proj = np.dot(principal_components, C)\n",
    "proj"
   ]
  }
 ],
 "metadata": {
  "kernelspec": {
   "display_name": "Python 3 (ipykernel)",
   "language": "python",
   "name": "python3"
  },
  "language_info": {
   "codemirror_mode": {
    "name": "ipython",
    "version": 3
   },
   "file_extension": ".py",
   "mimetype": "text/x-python",
   "name": "python",
   "nbconvert_exporter": "python",
   "pygments_lexer": "ipython3",
   "version": "3.11.4"
  }
 },
 "nbformat": 4,
 "nbformat_minor": 5
}
