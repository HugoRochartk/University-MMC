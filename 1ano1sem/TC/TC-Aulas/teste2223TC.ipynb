{
 "cells": [
  {
   "cell_type": "code",
   "execution_count": 62,
   "metadata": {},
   "outputs": [],
   "source": [
    "Z2 = GF(2)"
   ]
  },
  {
   "cell_type": "code",
   "execution_count": 63,
   "metadata": {},
   "outputs": [
    {
     "data": {
      "text/plain": [
       "Finite Field of size 2"
      ]
     },
     "execution_count": 63,
     "metadata": {},
     "output_type": "execute_result"
    }
   ],
   "source": [
    "Z2"
   ]
  },
  {
   "cell_type": "code",
   "execution_count": 64,
   "metadata": {},
   "outputs": [
    {
     "data": {
      "text/plain": [
       "[1 0 0 1 0 1 0]\n",
       "[0 1 0 0 0 1 1]\n",
       "[0 0 1 1 0 1 1]"
      ]
     },
     "execution_count": 64,
     "metadata": {},
     "output_type": "execute_result"
    }
   ],
   "source": [
    "G = matrix(Z2, [[1,0,0,1,0,1,0], [0,1,0,0,0,1,1], [0,0,1,1,0,1,1]])\n",
    "G"
   ]
  },
  {
   "cell_type": "code",
   "execution_count": 65,
   "metadata": {},
   "outputs": [
    {
     "data": {
      "text/plain": [
       "[7, 3] linear code over GF(2)"
      ]
     },
     "execution_count": 65,
     "metadata": {},
     "output_type": "execute_result"
    }
   ],
   "source": [
    "C = LinearCode(G)\n",
    "C"
   ]
  },
  {
   "cell_type": "code",
   "execution_count": 66,
   "metadata": {},
   "outputs": [
    {
     "data": {
      "text/plain": [
       "3"
      ]
     },
     "execution_count": 66,
     "metadata": {},
     "output_type": "execute_result"
    }
   ],
   "source": [
    "C.minimum_distance()"
   ]
  },
  {
   "cell_type": "code",
   "execution_count": 67,
   "metadata": {},
   "outputs": [
    {
     "data": {
      "text/plain": [
       "[7, 4] linear code over GF(2)"
      ]
     },
     "execution_count": 67,
     "metadata": {},
     "output_type": "execute_result"
    }
   ],
   "source": [
    "C.dual_code()"
   ]
  },
  {
   "cell_type": "code",
   "execution_count": 68,
   "metadata": {},
   "outputs": [
    {
     "data": {
      "text/plain": [
       "[1 0 0 0 0 1 1]\n",
       "[0 1 0 1 0 1 0]\n",
       "[0 0 1 1 0 1 1]\n",
       "[0 0 0 0 1 0 0]"
      ]
     },
     "execution_count": 68,
     "metadata": {},
     "output_type": "execute_result"
    }
   ],
   "source": [
    "H = C.parity_check_matrix()\n",
    "H"
   ]
  },
  {
   "cell_type": "code",
   "execution_count": 69,
   "metadata": {},
   "outputs": [
    {
     "data": {
      "text/plain": [
       "(1, 0, 1, 1, 0, 0, 1)"
      ]
     },
     "execution_count": 69,
     "metadata": {},
     "output_type": "execute_result"
    }
   ],
   "source": [
    "mens = vector([1,0,1,1,0,0,1])\n",
    "mens"
   ]
  },
  {
   "cell_type": "code",
   "execution_count": 70,
   "metadata": {},
   "outputs": [
    {
     "data": {
      "text/plain": [
       "(0, 1, 1, 0)"
      ]
     },
     "execution_count": 70,
     "metadata": {},
     "output_type": "execute_result"
    }
   ],
   "source": [
    "H*mens"
   ]
  },
  {
   "cell_type": "code",
   "execution_count": 71,
   "metadata": {},
   "outputs": [
    {
     "data": {
      "text/plain": [
       "[1 0 0 0 0 0 0]\n",
       "[0 1 0 0 0 0 0]\n",
       "[0 0 1 0 0 0 0]\n",
       "[0 0 0 1 0 0 0]\n",
       "[0 0 0 0 1 0 0]\n",
       "[0 0 0 0 0 1 0]\n",
       "[0 0 0 0 0 0 1]"
      ]
     },
     "execution_count": 71,
     "metadata": {},
     "output_type": "execute_result"
    }
   ],
   "source": [
    "I7 = identity_matrix(7)\n",
    "I7"
   ]
  },
  {
   "cell_type": "code",
   "execution_count": 72,
   "metadata": {},
   "outputs": [
    {
     "name": "stdout",
     "output_type": "stream",
     "text": [
      "(1, 0, 0, 0) // Bit 1\n",
      "(0, 1, 0, 0) // Bit 2\n",
      "(0, 0, 1, 0) // Bit 3\n",
      "(0, 1, 1, 0) // Bit 4\n",
      "(0, 0, 0, 1) // Bit 5\n",
      "(1, 1, 1, 0) // Bit 6\n",
      "(1, 0, 1, 0) // Bit 7\n"
     ]
    }
   ],
   "source": [
    "for i,col in enumerate(I7.columns()):\n",
    "    print(f\"{H*col} // Bit {i+1}\")"
   ]
  },
  {
   "cell_type": "code",
   "execution_count": 73,
   "metadata": {},
   "outputs": [
    {
     "data": {
      "text/plain": [
       "(True, (0, 0, 0, 0))"
      ]
     },
     "execution_count": 73,
     "metadata": {},
     "output_type": "execute_result"
    }
   ],
   "source": [
    "mens_corr = vector([1,0,1,0,0,0,1])\n",
    "mens_corr in C, H*mens_corr"
   ]
  },
  {
   "cell_type": "code",
   "execution_count": 74,
   "metadata": {},
   "outputs": [
    {
     "data": {
      "text/plain": [
       "[a, a^2, a^3, a^3 + 1, a^3 + a + 1, a^3 + a^2 + a + 1]"
      ]
     },
     "execution_count": 74,
     "metadata": {},
     "output_type": "execute_result"
    }
   ],
   "source": [
    "#--------------------------------- BCH --------------------------\n",
    "R.<x> = PolynomialRing(GF(2))\n",
    "pol = x^4 + x^3 + 1\n",
    "F = R.quotient(pol, 'a')\n",
    "alfa = F(x)\n",
    "potencias = [alfa^i for i in range(1,7)]\n",
    "potencias"
   ]
  },
  {
   "cell_type": "code",
   "execution_count": 75,
   "metadata": {},
   "outputs": [
    {
     "data": {
      "text/plain": [
       "x^10 + x^9 + x^8 + x^6 + x^5 + x^2 + 1"
      ]
     },
     "execution_count": 75,
     "metadata": {},
     "output_type": "execute_result"
    }
   ],
   "source": [
    "L = [pot.minpoly() for pot in potencias]\n",
    "g = lcm(L)\n",
    "# C = {h(x)g(x) mod x^15 - 1}\n",
    "g"
   ]
  },
  {
   "cell_type": "code",
   "execution_count": 76,
   "metadata": {},
   "outputs": [
    {
     "data": {
      "text/plain": [
       "[15, 5] Cyclic Code over GF(2)"
      ]
     },
     "execution_count": 76,
     "metadata": {},
     "output_type": "execute_result"
    }
   ],
   "source": [
    "C = codes.CyclicCode(g,15)\n",
    "C"
   ]
  },
  {
   "cell_type": "code",
   "execution_count": 77,
   "metadata": {},
   "outputs": [
    {
     "data": {
      "text/plain": [
       "7"
      ]
     },
     "execution_count": 77,
     "metadata": {},
     "output_type": "execute_result"
    }
   ],
   "source": [
    "C.minimum_distance()"
   ]
  },
  {
   "cell_type": "code",
   "execution_count": 78,
   "metadata": {},
   "outputs": [
    {
     "data": {
      "text/plain": [
       "[a^3 + a^2, a^2 + a, a^3 + 1, a^3 + a^2 + 1, 0, a^3 + a^2 + a]"
      ]
     },
     "execution_count": 78,
     "metadata": {},
     "output_type": "execute_result"
    }
   ],
   "source": [
    "#[0,0,1,1,1,1,0,0,0,0,1,0,1,0,0]\n",
    "r = R(x^12+x^11+x^10+x^9+x^4+x^2)\n",
    "s = [r(alfa^i) for i in range(1,7)]\n",
    "s\n"
   ]
  },
  {
   "cell_type": "code",
   "execution_count": 79,
   "metadata": {},
   "outputs": [
    {
     "data": {
      "text/plain": [
       "a^3 + a^2"
      ]
     },
     "execution_count": 79,
     "metadata": {},
     "output_type": "execute_result"
    }
   ],
   "source": [
    "M = matrix(F, [s[0:3], s[1:4], s[2:5]])\n",
    "det(M)"
   ]
  },
  {
   "cell_type": "code",
   "execution_count": 80,
   "metadata": {},
   "outputs": [],
   "source": [
    "b = matrix(F, s[3:6]).transpose()"
   ]
  },
  {
   "cell_type": "code",
   "execution_count": 81,
   "metadata": {},
   "outputs": [
    {
     "data": {
      "text/plain": [
       "[    a^2 + 1]\n",
       "[a^2 + a + 1]\n",
       "[  a^3 + a^2]"
      ]
     },
     "execution_count": 81,
     "metadata": {},
     "output_type": "execute_result"
    }
   ],
   "source": [
    "sol = M\\b\n",
    "sol"
   ]
  },
  {
   "cell_type": "code",
   "execution_count": 82,
   "metadata": {},
   "outputs": [
    {
     "data": {
      "text/plain": [
       "[(a^2 + 1, 1), (a^2 + a + 1, 1), (a^3 + a^2 + a, 1)]"
      ]
     },
     "execution_count": 82,
     "metadata": {},
     "output_type": "execute_result"
    }
   ],
   "source": [
    "sig3, sig2, sig1 = sol\n",
    "s3,s2,s1 = sig3[0], sig2[0], sig1[0]\n",
    "PolF.<z> = PolynomialRing(F)\n",
    "ELP = PolF(z^3+s1*z^2 + s2*z + s3)\n",
    "lista_erros = ELP.roots()\n",
    "lista_erros"
   ]
  },
  {
   "cell_type": "code",
   "execution_count": 83,
   "metadata": {},
   "outputs": [
    {
     "data": {
      "text/plain": [
       "[a^2 + 1, a^2 + a + 1, a^3 + a^2 + a]"
      ]
     },
     "execution_count": 83,
     "metadata": {},
     "output_type": "execute_result"
    }
   ],
   "source": [
    "erros = [lista_erros[i][0] for i in range(0, len(lista_erros))]\n",
    "erros"
   ]
  },
  {
   "cell_type": "code",
   "execution_count": 84,
   "metadata": {},
   "outputs": [
    {
     "name": "stdout",
     "output_type": "stream",
     "text": [
      "7\n",
      "8\n",
      "9\n"
     ]
    }
   ],
   "source": [
    "for i in range(1,15):\n",
    "    if alfa^i in erros:\n",
    "        print(i)\n",
    "        "
   ]
  },
  {
   "cell_type": "code",
   "execution_count": 85,
   "metadata": {},
   "outputs": [
    {
     "data": {
      "text/plain": [
       "[0, 0, 0, 0, 0, 0]"
      ]
     },
     "execution_count": 85,
     "metadata": {},
     "output_type": "execute_result"
    }
   ],
   "source": [
    "c = R(x^12+x^11+x^10+x^8+x^7+x^4+x^2)\n",
    "s = [c(alfa^i) for i in range(1,7)]\n",
    "s"
   ]
  },
  {
   "cell_type": "code",
   "execution_count": 86,
   "metadata": {},
   "outputs": [],
   "source": [
    "#------------------------------------ RS--------------------------------"
   ]
  },
  {
   "cell_type": "code",
   "execution_count": 87,
   "metadata": {},
   "outputs": [
    {
     "data": {
      "text/plain": [
       "x^4 + (a^2 + a + 1)*x^3 + (a^3 + 1)*x^2 + (a + 1)*x + a^3 + a"
      ]
     },
     "execution_count": 87,
     "metadata": {},
     "output_type": "execute_result"
    }
   ],
   "source": [
    "Z2 = IntegerModRing(2)\n",
    "Pol2 = PolynomialRing(Z2, 'x')\n",
    "p = Pol2(x^4+x^3+1)\n",
    "F=PolynomialQuotientRing(Pol2, p, 'a')\n",
    "a = F(x)\n",
    "PolF.<x> = PolynomialRing(F)\n",
    "\n",
    "minpoly = [PolF(x-a^i) for i in range(1,5)]\n",
    "g = lcm(minpoly)\n",
    "g"
   ]
  },
  {
   "cell_type": "code",
   "execution_count": 88,
   "metadata": {},
   "outputs": [
    {
     "data": {
      "text/plain": [
       "[a^3 + a, a^3, 0, a^3 + a^2 + a + 1]"
      ]
     },
     "execution_count": 88,
     "metadata": {},
     "output_type": "execute_result"
    }
   ],
   "source": [
    "r = PolF((a^2+1)*x^12 + (a^3+1)*x^11 + a^2*x^10 + (a^3+1)*x^9 + (a^2+a)*x^8 + (a)*x^7 + (a^3 + a + 1)*x^4 + (a+1)*x^3 + (a^2+1)*x^2 + (a^2)*x + 1)\n",
    "\n",
    "s = [r(a^i) for i in range(1,5)]\n",
    "s"
   ]
  },
  {
   "cell_type": "code",
   "execution_count": 90,
   "metadata": {},
   "outputs": [
    {
     "data": {
      "text/plain": [
       "[15, 11] Cyclic Code over GF(16)"
      ]
     },
     "execution_count": 90,
     "metadata": {},
     "output_type": "execute_result"
    }
   ],
   "source": [
    "C = codes.CyclicCode(g, 15)\n",
    "C"
   ]
  },
  {
   "cell_type": "code",
   "execution_count": null,
   "metadata": {},
   "outputs": [],
   "source": []
  }
 ],
 "metadata": {
  "kernelspec": {
   "display_name": "SageMath 9.3",
   "language": "sage",
   "name": "sagemath"
  },
  "language_info": {
   "codemirror_mode": {
    "name": "ipython",
    "version": 3
   },
   "file_extension": ".py",
   "mimetype": "text/x-python",
   "name": "python",
   "nbconvert_exporter": "python",
   "pygments_lexer": "ipython3",
   "version": "3.7.10"
  }
 },
 "nbformat": 4,
 "nbformat_minor": 4
}
