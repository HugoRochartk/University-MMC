{
 "cells": [
  {
   "cell_type": "code",
   "execution_count": 13,
   "metadata": {},
   "outputs": [
    {
     "data": {
      "text/plain": [
       "Univariate Polynomial Ring in x over Finite Field of size 2 (using GF2X)"
      ]
     },
     "execution_count": 13,
     "metadata": {},
     "output_type": "execute_result"
    }
   ],
   "source": [
    "Pol2.<x> = PolynomialRing(GF(2))\n",
    "Pol2"
   ]
  },
  {
   "cell_type": "code",
   "execution_count": 14,
   "metadata": {},
   "outputs": [
    {
     "data": {
      "text/plain": [
       "True"
      ]
     },
     "execution_count": 14,
     "metadata": {},
     "output_type": "execute_result"
    }
   ],
   "source": [
    "pol = Pol2(x^5+x^2+1)\n",
    "pol.is_irreducible()"
   ]
  },
  {
   "cell_type": "code",
   "execution_count": 15,
   "metadata": {},
   "outputs": [
    {
     "data": {
      "text/plain": [
       "Univariate Quotient Polynomial Ring in a over Finite Field of size 2 with modulus x^5 + x^2 + 1"
      ]
     },
     "execution_count": 15,
     "metadata": {},
     "output_type": "execute_result"
    }
   ],
   "source": [
    "F32 = PolynomialQuotientRing(Pol2, pol, 'a')\n",
    "F32"
   ]
  },
  {
   "cell_type": "code",
   "execution_count": 16,
   "metadata": {},
   "outputs": [
    {
     "data": {
      "text/plain": [
       "a"
      ]
     },
     "execution_count": 16,
     "metadata": {},
     "output_type": "execute_result"
    }
   ],
   "source": [
    "a = F32(x)\n",
    "a"
   ]
  },
  {
   "cell_type": "code",
   "execution_count": 17,
   "metadata": {},
   "outputs": [
    {
     "data": {
      "text/plain": [
       "Univariate Polynomial Ring in x over Univariate Quotient Polynomial Ring in a over Finite Field of size 2 with modulus x^5 + x^2 + 1"
      ]
     },
     "execution_count": 17,
     "metadata": {},
     "output_type": "execute_result"
    }
   ],
   "source": [
    "Pol32.<x> = PolynomialRing(F32)\n",
    "Pol32"
   ]
  },
  {
   "cell_type": "code",
   "execution_count": 18,
   "metadata": {},
   "outputs": [
    {
     "data": {
      "text/plain": [
       "(a^4 + a^2 + a + 1)*x^2 + a^4*x + a^4 + a^3 + a^2 + a"
      ]
     },
     "execution_count": 18,
     "metadata": {},
     "output_type": "execute_result"
    }
   ],
   "source": [
    "Pol32.random_element()"
   ]
  },
  {
   "cell_type": "code",
   "execution_count": 19,
   "metadata": {},
   "outputs": [
    {
     "data": {
      "text/plain": [
       "[x + a, x + a^2, x + a^3, x + a^4, x + a^2 + 1, x + a^3 + a]"
      ]
     },
     "execution_count": 19,
     "metadata": {},
     "output_type": "execute_result"
    }
   ],
   "source": [
    "min_poly = [Pol32(x-a^i) for i in range(1,7)] #polinomios de grau 1 sao primos relativos se forem diferentes logo é multiplicar eles todos\n",
    "min_poly"
   ]
  },
  {
   "cell_type": "code",
   "execution_count": 20,
   "metadata": {},
   "outputs": [
    {
     "data": {
      "text/plain": [
       "x^6 + (a^4 + 1)*x^5 + (a^4 + a^3 + a)*x^4 + (a^4 + a^3 + a^2 + a)*x^3 + (a^4 + a^3 + a + 1)*x^2 + (a^4 + a^3 + a^2 + a)*x + a^4 + a^3"
      ]
     },
     "execution_count": 20,
     "metadata": {},
     "output_type": "execute_result"
    }
   ],
   "source": [
    "g = lcm(min_poly) #polinomio gerador\n",
    "g"
   ]
  },
  {
   "cell_type": "code",
   "execution_count": 22,
   "metadata": {},
   "outputs": [
    {
     "data": {
      "text/plain": [
       "(a^4 + a^2 + a + 1)*x^8 + (a^4 + a^2 + 1)*x^7 + (a^4 + a + 1)*x^6 + (a^4 + a)*x^5 + (a^4 + a^2 + 1)*x^4 + (a^4 + a^3 + 1)*x^3 + (a^4 + a^2 + a + 1)*x^2 + (a^3 + a)*x + a^4 + a^3 + a^2 + 1"
      ]
     },
     "execution_count": 22,
     "metadata": {},
     "output_type": "execute_result"
    }
   ],
   "source": [
    "h = (a^4 + a^2 + a + 1)*x^2 + a^4*x + a^4 + a^3 + a^2 + a\n",
    "c = h*g\n",
    "c"
   ]
  },
  {
   "cell_type": "code",
   "execution_count": 23,
   "metadata": {},
   "outputs": [
    {
     "data": {
      "text/plain": [
       "(a^4 + a^2 + a + 1)*x^29 + (a^4 + a^3 + a^2)*x^8"
      ]
     },
     "execution_count": 23,
     "metadata": {},
     "output_type": "execute_result"
    }
   ],
   "source": [
    "#este codigo sobre GF32 é [31,25,7]\n",
    "erro = Pol32(a^(26)*x^(29)+ (a^13)*x^8)\n",
    "erro\n"
   ]
  },
  {
   "cell_type": "code",
   "execution_count": 24,
   "metadata": {},
   "outputs": [
    {
     "data": {
      "text/plain": [
       "(a^4 + a^2 + a + 1)*x^29 + (a^3 + a + 1)*x^8 + (a^4 + a^2 + 1)*x^7 + (a^4 + a + 1)*x^6 + (a^4 + a)*x^5 + (a^4 + a^2 + 1)*x^4 + (a^4 + a^3 + 1)*x^3 + (a^4 + a^2 + a + 1)*x^2 + (a^3 + a)*x + a^4 + a^3 + a^2 + 1"
      ]
     },
     "execution_count": 24,
     "metadata": {},
     "output_type": "execute_result"
    }
   ],
   "source": [
    "r = c + erro\n",
    "r"
   ]
  },
  {
   "cell_type": "code",
   "execution_count": 26,
   "metadata": {},
   "outputs": [
    {
     "data": {
      "text/plain": [
       "[a^2 + a,\n",
       " a^4 + a^3 + a^2,\n",
       " a^2 + a,\n",
       " a^4 + a^3 + a^2 + a,\n",
       " a^3 + a^2 + a,\n",
       " a^3 + a^2 + a + 1]"
      ]
     },
     "execution_count": 26,
     "metadata": {},
     "output_type": "execute_result"
    }
   ],
   "source": [
    "sindr = [r(a^i) for i in range(1,7)]\n",
    "sindr"
   ]
  },
  {
   "cell_type": "code",
   "execution_count": 27,
   "metadata": {},
   "outputs": [
    {
     "data": {
      "text/plain": [
       "(a^3 + a^2 + a + 1)*x^5 + (a^3 + a^2 + a)*x^4 + (a^4 + a^3 + a^2 + a)*x^3 + (a^2 + a)*x^2 + (a^4 + a^3 + a^2)*x + a^2 + a"
      ]
     },
     "execution_count": 27,
     "metadata": {},
     "output_type": "execute_result"
    }
   ],
   "source": [
    "S = Pol32(sindr)\n",
    "S"
   ]
  },
  {
   "cell_type": "code",
   "execution_count": 28,
   "metadata": {},
   "outputs": [
    {
     "data": {
      "text/plain": [
       "((a^3 + a^2 + 1)*x + a^4 + a^2 + a,\n",
       " (a^4 + a^3)*x^4 + (a^4 + a + 1)*x^3 + (a + 1)*x^2 + (a^4 + a^3 + a)*x + a^4 + a^3 + a + 1)"
      ]
     },
     "execution_count": 28,
     "metadata": {},
     "output_type": "execute_result"
    }
   ],
   "source": [
    "Q1 = x^6 // S\n",
    "R1 = x^6 % S\n",
    "Q1, R1"
   ]
  },
  {
   "cell_type": "code",
   "execution_count": 29,
   "metadata": {},
   "outputs": [
    {
     "data": {
      "text/plain": [
       "(a^2*x + a^4 + a^3 + a^2, (a^3 + a)*x + a^3 + a^2 + a + 1)"
      ]
     },
     "execution_count": 29,
     "metadata": {},
     "output_type": "execute_result"
    }
   ],
   "source": [
    "Q2 = S // R1\n",
    "R2 = S % R1\n",
    "Q2, R2"
   ]
  },
  {
   "cell_type": "code",
   "execution_count": 31,
   "metadata": {},
   "outputs": [
    {
     "data": {
      "text/plain": [
       "True"
      ]
     },
     "execution_count": 31,
     "metadata": {},
     "output_type": "execute_result"
    }
   ],
   "source": [
    "V = 1+Q1*Q2\n",
    "U = -Q2\n",
    "S*V + x^6*U == R2"
   ]
  },
  {
   "cell_type": "code",
   "execution_count": 32,
   "metadata": {},
   "outputs": [
    {
     "data": {
      "text/plain": [
       "(a^4 + 1)*x^2 + (a^3 + a)*x + a^4"
      ]
     },
     "execution_count": 32,
     "metadata": {},
     "output_type": "execute_result"
    }
   ],
   "source": [
    "V"
   ]
  },
  {
   "cell_type": "code",
   "execution_count": 33,
   "metadata": {},
   "outputs": [
    {
     "data": {
      "text/plain": [
       "[(a^2, 1), (a^3 + a^2 + a + 1, 1)]"
      ]
     },
     "execution_count": 33,
     "metadata": {},
     "output_type": "execute_result"
    }
   ],
   "source": [
    "Vraizes = V.roots()\n",
    "Vraizes"
   ]
  },
  {
   "cell_type": "code",
   "execution_count": 35,
   "metadata": {},
   "outputs": [
    {
     "data": {
      "text/plain": [
       "[29, 8]"
      ]
     },
     "execution_count": 35,
     "metadata": {},
     "output_type": "execute_result"
    }
   ],
   "source": [
    "pos_erros = [31 - discrete_log(Vraizes[i][0], Pol32(a), 31) for i in range(2)]\n",
    "pos_erros"
   ]
  },
  {
   "cell_type": "code",
   "execution_count": 36,
   "metadata": {},
   "outputs": [
    {
     "data": {
      "text/plain": [
       "a^3 + a"
      ]
     },
     "execution_count": 36,
     "metadata": {},
     "output_type": "execute_result"
    }
   ],
   "source": [
    "Vder = V.derivative()\n",
    "Vder"
   ]
  },
  {
   "cell_type": "code",
   "execution_count": 37,
   "metadata": {},
   "outputs": [
    {
     "data": {
      "text/plain": [
       "a^4 + a^2 + a + 1"
      ]
     },
     "execution_count": 37,
     "metadata": {},
     "output_type": "execute_result"
    }
   ],
   "source": [
    "e29 = R2(a^2)/Vder(a^2)\n",
    "e29"
   ]
  },
  {
   "cell_type": "code",
   "execution_count": 38,
   "metadata": {},
   "outputs": [
    {
     "data": {
      "text/plain": [
       "a^4 + a^3 + a^2"
      ]
     },
     "execution_count": 38,
     "metadata": {},
     "output_type": "execute_result"
    }
   ],
   "source": [
    "e8 = R2(a^23)/Vder(a^23)\n",
    "e8"
   ]
  },
  {
   "cell_type": "code",
   "execution_count": 39,
   "metadata": {},
   "outputs": [
    {
     "data": {
      "text/plain": [
       "(a^4 + a^2 + a + 1)*x^29 + (a^4 + a^3 + a^2)*x^8"
      ]
     },
     "execution_count": 39,
     "metadata": {},
     "output_type": "execute_result"
    }
   ],
   "source": [
    "erro"
   ]
  },
  {
   "cell_type": "code",
   "execution_count": null,
   "metadata": {},
   "outputs": [],
   "source": []
  }
 ],
 "metadata": {
  "kernelspec": {
   "display_name": "SageMath 9.3",
   "language": "sage",
   "name": "sagemath"
  },
  "language_info": {
   "codemirror_mode": {
    "name": "ipython",
    "version": 3
   },
   "file_extension": ".py",
   "mimetype": "text/x-python",
   "name": "python",
   "nbconvert_exporter": "python",
   "pygments_lexer": "ipython3",
   "version": "3.7.10"
  }
 },
 "nbformat": 4,
 "nbformat_minor": 4
}
