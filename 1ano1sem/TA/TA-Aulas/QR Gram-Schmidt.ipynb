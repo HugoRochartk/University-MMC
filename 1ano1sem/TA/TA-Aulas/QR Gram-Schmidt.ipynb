{
 "cells": [
  {
   "cell_type": "code",
   "execution_count": 19,
   "metadata": {},
   "outputs": [
    {
     "name": "stdout",
     "output_type": "stream",
     "text": [
      "[[ 0.30442954 -0.47367299  0.82641185]\n",
      " [ 0.10147651 -0.84652733 -0.52258397]\n",
      " [ 0.94711413  0.24295139 -0.20964124]]\n",
      "\n",
      "[[ 29.563491   102.72805739  28.95463192]\n",
      " [  0.          11.13311386  21.24714736]\n",
      " [  0.           0.           7.5622761 ]]\n",
      "\n",
      "[[  9.  26.   5.]\n",
      " [  3.   1. -19.]\n",
      " [ 28. 100.  31.]]\n",
      "\n",
      "[[ 1.00000000e+00  4.56497051e-16  4.62655648e-15]\n",
      " [ 4.56497051e-16  1.00000000e+00 -1.24476974e-15]\n",
      " [ 4.62655648e-15 -1.24476974e-15  1.00000000e+00]]\n"
     ]
    }
   ],
   "source": [
    "import numpy as np\n",
    "\n",
    "A = np.array([[9,26,5], [3,1,-19], [28,100,31]])\n",
    "   \n",
    "\n",
    "def gram_schmidt(A):\n",
    "    m, n = A.shape\n",
    "    Q = np.zeros((m, n))\n",
    "    Q[:, 0] = A[:, 0] / np.linalg.norm(A[:, 0], 2)\n",
    "    for i in range(1, n):\n",
    "        Q[:, i] = A[:, i]\n",
    "        for j in range(0, i):\n",
    "            inner = np.dot(Q[:, j].T, Q[:, i])\n",
    "            Q[:, i] = Q[:, i] - np.dot(inner, Q[:, j])\n",
    "        Q[:, i] = Q[:, i] / np.linalg.norm(Q[:, i], 2)\n",
    "    return Q\n",
    "\n",
    "\n",
    "\n",
    "def qr_gs(A):\n",
    "    m, n = A.shape\n",
    "    Q = gram_schmidt(A)\n",
    "    R = np.zeros((m, n))\n",
    "    for i in range(0, n):\n",
    "        R[i, i] = np.dot(Q[:, i], A[:, i])\n",
    "        for j in range(0, i):\n",
    "            R[j, i] = np.dot(Q[:, j], A[:, i])\n",
    "    return Q, R\n",
    "        \n",
    "\n",
    "Q,R = qr_gs(A)\n",
    "print(Q)\n",
    "print(f\"\\n{R}\")\n",
    "print(f\"\\n{np.dot(Q,R)}\")\n",
    "print(f\"\\n{np.dot(Q,Q.transpose())}\")\n"
   ]
  },
  {
   "cell_type": "code",
   "execution_count": null,
   "metadata": {},
   "outputs": [],
   "source": []
  },
  {
   "cell_type": "code",
   "execution_count": null,
   "metadata": {},
   "outputs": [],
   "source": []
  }
 ],
 "metadata": {
  "kernelspec": {
   "display_name": "SageMath 9.3",
   "language": "sage",
   "name": "sagemath"
  },
  "language_info": {
   "codemirror_mode": {
    "name": "ipython",
    "version": 3
   },
   "file_extension": ".py",
   "mimetype": "text/x-python",
   "name": "python",
   "nbconvert_exporter": "python",
   "pygments_lexer": "ipython3",
   "version": "3.7.10"
  }
 },
 "nbformat": 4,
 "nbformat_minor": 4
}
