{
 "cells": [
  {
   "cell_type": "code",
   "execution_count": 1,
   "metadata": {},
   "outputs": [
    {
     "data": {
      "text/plain": [
       "Elliptic Curve defined by y^2 = x^3 + 26959946667150639794667015087019630673557916260026308143510066298878*x + 18958286285566608000408668544493926415504680968679321075787234672564 over Ring of integers modulo 26959946667150639794667015087019630673557916260026308143510066298881"
      ]
     },
     "execution_count": 1,
     "metadata": {},
     "output_type": "execute_result"
    }
   ],
   "source": [
    "#NIST P-224\n",
    "p = 2^224 - 2^96 + 1\n",
    "Zp = IntegerModRing(p)\n",
    "a, b = (-3,18958286285566608000408668544493926415504680968679321075787234672564)\n",
    "E = EllipticCurve(Zp, [a,b])\n",
    "E"
   ]
  },
  {
   "cell_type": "code",
   "execution_count": 2,
   "metadata": {},
   "outputs": [],
   "source": [
    "P = E(19277929113566293071110308034699488026831934219452440156649784352033,\n",
    "19926808758034470970197974370888749184205991990603949537637343198772)"
   ]
  },
  {
   "cell_type": "code",
   "execution_count": 3,
   "metadata": {},
   "outputs": [
    {
     "data": {
      "text/plain": [
       "(19277929113566293071110308034699488026831934219452440156649784352033 : 19926808758034470970197974370888749184205991990603949537637343198772 : 1)"
      ]
     },
     "execution_count": 3,
     "metadata": {},
     "output_type": "execute_result"
    }
   ],
   "source": [
    "P"
   ]
  },
  {
   "cell_type": "code",
   "execution_count": 4,
   "metadata": {},
   "outputs": [
    {
     "data": {
      "text/plain": [
       "26959946667150639794667015087019625940457807714424391721682722368061"
      ]
     },
     "execution_count": 4,
     "metadata": {},
     "output_type": "execute_result"
    }
   ],
   "source": [
    "E.order()"
   ]
  },
  {
   "cell_type": "code",
   "execution_count": 5,
   "metadata": {},
   "outputs": [
    {
     "data": {
      "text/plain": [
       "26959946667150639794667015087019625940457807714424391721682722368061"
      ]
     },
     "execution_count": 5,
     "metadata": {},
     "output_type": "execute_result"
    }
   ],
   "source": [
    "P.order()"
   ]
  },
  {
   "cell_type": "code",
   "execution_count": 6,
   "metadata": {},
   "outputs": [],
   "source": [
    "#Alice e Bob pretendem partilhar a chave 1234"
   ]
  },
  {
   "cell_type": "code",
   "execution_count": 7,
   "metadata": {},
   "outputs": [
    {
     "name": "stdout",
     "output_type": "stream",
     "text": [
      "2 61702\n"
     ]
    }
   ],
   "source": [
    "#STOR N FEZ\n",
    "k = 50\n",
    "j = 0\n",
    "mens = 1234\n",
    "x = k*mens + j\n",
    "while legendre_symbol(x^3+a*x+b,p) == -1:\n",
    "    j += 1\n",
    "    x = k*mens + j\n",
    "print(j, x)"
   ]
  },
  {
   "cell_type": "code",
   "execution_count": 8,
   "metadata": {},
   "outputs": [],
   "source": [
    "#STOR N FEZ\n",
    "x = Zp(x)\n",
    "y =  sqrt(x^3+a*x+b)"
   ]
  },
  {
   "cell_type": "code",
   "execution_count": 9,
   "metadata": {},
   "outputs": [
    {
     "data": {
      "text/plain": [
       "(61702 : 9028441365052737300130063018484367718397365137474614469932633682900 : 1)"
      ]
     },
     "execution_count": 9,
     "metadata": {},
     "output_type": "execute_result"
    }
   ],
   "source": [
    "#STOR N FEZ\n",
    "Mens = E(x,y)\n",
    "Mens"
   ]
  },
  {
   "cell_type": "code",
   "execution_count": 10,
   "metadata": {},
   "outputs": [],
   "source": [
    "N = p\n",
    "eA = randint(2,N-1)\n",
    "eB = randint(2,N-1)"
   ]
  },
  {
   "cell_type": "code",
   "execution_count": 11,
   "metadata": {},
   "outputs": [],
   "source": [
    "#Alice calcula eA*P\n",
    "#Bob calcula eB*P\n",
    "\n",
    "P1 = eA*P\n",
    "P2 = eB*P"
   ]
  },
  {
   "cell_type": "code",
   "execution_count": 12,
   "metadata": {},
   "outputs": [],
   "source": [
    "#Alice calcula eA*P2\n",
    "#Bob calcula eB*P1\n",
    "\n",
    "P11 = eA*P2\n",
    "P22 = eB*P1"
   ]
  },
  {
   "cell_type": "code",
   "execution_count": 13,
   "metadata": {},
   "outputs": [
    {
     "data": {
      "text/plain": [
       "((12690813319118315984440131762613972529310330322474594337323811986421 : 19209767041987802266854392057474137531055361210489314946023564703326 : 1),\n",
       " (12690813319118315984440131762613972529310330322474594337323811986421 : 19209767041987802266854392057474137531055361210489314946023564703326 : 1))"
      ]
     },
     "execution_count": 13,
     "metadata": {},
     "output_type": "execute_result"
    }
   ],
   "source": [
    "P11, P22"
   ]
  },
  {
   "cell_type": "code",
   "execution_count": 14,
   "metadata": {},
   "outputs": [
    {
     "data": {
      "text/plain": [
       "True"
      ]
     },
     "execution_count": 14,
     "metadata": {},
     "output_type": "execute_result"
    }
   ],
   "source": [
    "P11 == P22"
   ]
  },
  {
   "cell_type": "code",
   "execution_count": null,
   "metadata": {},
   "outputs": [],
   "source": []
  }
 ],
 "metadata": {
  "kernelspec": {
   "display_name": "SageMath 9.3",
   "language": "sage",
   "name": "sagemath"
  },
  "language_info": {
   "codemirror_mode": {
    "name": "ipython",
    "version": 3
   },
   "file_extension": ".py",
   "mimetype": "text/x-python",
   "name": "python",
   "nbconvert_exporter": "python",
   "pygments_lexer": "ipython3",
   "version": "3.7.10"
  }
 },
 "nbformat": 4,
 "nbformat_minor": 4
}
