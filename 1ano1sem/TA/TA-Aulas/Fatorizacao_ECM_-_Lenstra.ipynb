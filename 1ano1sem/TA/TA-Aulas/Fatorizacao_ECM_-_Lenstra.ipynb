{
 "cells": [
  {
   "cell_type": "markdown",
   "metadata": {},
   "source": [
    "**Passo 1: Construir uma curva elíptica em Zn (nao necessario no teste a partida)**"
   ]
  },
  {
   "cell_type": "code",
   "execution_count": 1,
   "metadata": {},
   "outputs": [
    {
     "data": {
      "text/plain": [
       "(False, True)"
      ]
     },
     "execution_count": 1,
     "metadata": {},
     "output_type": "execute_result"
    }
   ],
   "source": [
    "N = next_prime(210)*next_prime(91211)\n",
    "R = IntegerModRing(N)\n",
    "is_prime(N), gcd(6,N) == 1"
   ]
  },
  {
   "cell_type": "code",
   "execution_count": 2,
   "metadata": {},
   "outputs": [],
   "source": [
    "a = R.random_element()\n",
    "x = R.random_element()\n",
    "y = R.random_element()\n",
    "b = y*y - x*x*x - a*x\n",
    "E = EllipticCurve(R, [a,b])\n",
    "\n",
    "#se desse aqui gcd=1 tava resolvido\n",
    "while(gcd(ZZ(4*(a^3)+27*b^2),N) != 1):\n",
    "    a = R.random_element()\n",
    "    x = R.random_element()\n",
    "    y = R.random_element()\n",
    "    b = y*y - x*x*x - a*x\n",
    "    if gcd(ZZ(4*a^3+27*b^2),N) not in [1,N]:\n",
    "        print(gcd(ZZ(4*a^3+27*b^2),N))\n",
    "        break\n"
   ]
  },
  {
   "cell_type": "code",
   "execution_count": 3,
   "metadata": {},
   "outputs": [
    {
     "data": {
      "text/plain": [
       "1"
      ]
     },
     "execution_count": 3,
     "metadata": {},
     "output_type": "execute_result"
    }
   ],
   "source": [
    "gcd(ZZ(4*a^3+27*b^2),N)"
   ]
  },
  {
   "cell_type": "code",
   "execution_count": 4,
   "metadata": {},
   "outputs": [],
   "source": [
    "#NO TESTE É SUBSTITUIR AQUI DIRETAMENTE E O N LÁ EM CIMA#\n",
    "E=EllipticCurve(R,[a,b])\n",
    "P=E([x,y])"
   ]
  },
  {
   "cell_type": "code",
   "execution_count": 5,
   "metadata": {},
   "outputs": [
    {
     "data": {
      "text/plain": [
       "Elliptic Curve defined by y^2 = x^3 + 5992951*x + 1293033 over Ring of integers modulo 19249319"
      ]
     },
     "execution_count": 5,
     "metadata": {},
     "output_type": "execute_result"
    }
   ],
   "source": [
    "E"
   ]
  },
  {
   "cell_type": "code",
   "execution_count": 6,
   "metadata": {},
   "outputs": [
    {
     "data": {
      "text/plain": [
       "(9821098 : 10057244 : 1)"
      ]
     },
     "execution_count": 6,
     "metadata": {},
     "output_type": "execute_result"
    }
   ],
   "source": [
    "P"
   ]
  },
  {
   "cell_type": "markdown",
   "metadata": {},
   "source": [
    "**Passo 2: Para cada  1 ≤ i ≤ π(B) e p_i primo inferior a B procura-se o maior inteiro a_i tal que  (p_i)^(a_i) ≤ B.**\n",
    "\n",
    "**Inicia-se um ciclo  1 ≤ j ≤ a_i, para cada i, calculando sucessivamente**\n",
    "                               \n",
    "\n",
    "                                           P := p_i * P\n",
    "\n",
    "**interrompendo quando alguma operação ilegal ocorrer. No caso, o  λ=(y1−y2)/(x1−x2)na definição de soma terá uma divisão por um divisor de  0.**\n",
    "\n",
    "**Para  d = x1−x2 no passo ilegal, calcula-se  g=mdc(N,d)**"
   ]
  },
  {
   "cell_type": "code",
   "execution_count": 7,
   "metadata": {},
   "outputs": [],
   "source": [
    "B = 10000\n",
    "\n",
    "\n",
    "lista_a_i = []\n",
    "p = 2\n",
    "\n",
    "while(p <= 10000):\n",
    "    a=floor(log(B,p))\n",
    "    lista_a_i.append((p,a))\n",
    "    p = next_prime(p)\n",
    "    \n",
    "#lista_a_i"
   ]
  },
  {
   "cell_type": "code",
   "execution_count": 8,
   "metadata": {},
   "outputs": [
    {
     "name": "stdout",
     "output_type": "stream",
     "text": [
      "Para primo p=2:\n",
      "(15775393 : 7884622 : 1)\n",
      "(12941944 : 17792741 : 1)\n",
      "(13112918 : 7077786 : 1)\n",
      "(930290 : 4151392 : 1)\n",
      "(18805852 : 12797045 : 1)\n",
      "(2741483 : 15610303 : 1)\n",
      "(9234720 : 8702483 : 1)\n",
      "(910136 : 4806872 : 1)\n",
      "(13579280 : 18765365 : 1)\n",
      "(5634626 : 307233 : 1)\n",
      "(18035455 : 15453936 : 1)\n",
      "(2999664 : 6088893 : 1)\n",
      "(18733658 : 10888617 : 1)\n",
      "------------------------\n",
      "Para primo p=3:\n",
      "(18798659 : 11912758 : 1)\n",
      "(4932156 : 778275 : 1)\n",
      "(13005731 : 4561055 : 1)\n",
      "(2854662 : 12289000 : 1)\n",
      "(15193503 : 12299770 : 1)\n",
      "(2026439 : 14117752 : 1)\n",
      "(10276206 : 2088326 : 1)\n",
      "(17434009 : 17622347 : 1)\n",
      "------------------------\n",
      "Para primo p=5:\n",
      "(9156974 : 17556694 : 1)\n",
      "(9131869 : 12780908 : 1)\n",
      "(6305514 : 12894873 : 1)\n",
      "(17500621 : 8771458 : 1)\n",
      "(18008114 : 1423938 : 1)\n",
      "------------------------\n",
      "Para primo p=7:\n",
      "(13597764 : 588551 : 1)\n",
      "(9568925 : 5628263 : 1)\n",
      "(13990605 : 4031285 : 1)\n",
      "(10145847 : 17836560 : 1)\n",
      "------------------------\n",
      "Para primo p=11:\n",
      "(18636359 : 3392927 : 1)\n",
      "(1472815 : 4761243 : 1)\n",
      "(7936514 : 1708568 : 1)\n",
      "------------------------\n",
      "Para primo p=13:\n",
      "(4091916 : 3000225 : 1)\n",
      "(2781040 : 6817351 : 1)\n",
      "(17871107 : 9484801 : 1)\n",
      "------------------------\n",
      "Para primo p=17:\n",
      "(12156020 : 5480030 : 1)\n",
      "(5322207 : 11741385 : 1)\n",
      "(2582400 : 968055 : 1)\n",
      "------------------------\n",
      "Para primo p=19:\n",
      "(3538771 : 16832108 : 1)\n",
      "(2947316 : 9432051 : 1)\n",
      "(17314350 : 3420730 : 1)\n",
      "------------------------\n",
      "Para primo p=23:\n",
      "(3947075 : 2403767 : 1)\n",
      "(18665614 : 13883836 : 1)\n",
      "------------------------\n",
      "Para primo p=29:\n",
      "(918123 : 12292560 : 1)\n",
      "(1906157 : 6036837 : 1)\n",
      "------------------------\n",
      "Para primo p=31:\n",
      "(9018462 : 7175200 : 1)\n",
      "(3779402 : 11425176 : 1)\n",
      "------------------------\n",
      "Para primo p=37:\n",
      "(10937614 : 10870152 : 1)\n",
      "(872770 : 17752095 : 1)\n",
      "------------------------\n",
      "Para primo p=41:\n",
      "(1807690 : 14074199 : 1)\n",
      "(4020190 : 2776484 : 1)\n",
      "------------------------\n",
      "Para primo p=43:\n",
      "(17218673 : 8615087 : 1)\n",
      "(3572012 : 1726175 : 1)\n",
      "------------------------\n",
      "Para primo p=47:\n",
      "(19157148 : 13752649 : 1)\n",
      "(3531575 : 1634968 : 1)\n",
      "------------------------\n",
      "Para primo p=53:\n",
      "(16638623 : 14742927 : 1)\n",
      "(3457389 : 10715767 : 1)\n",
      "------------------------\n",
      "Para primo p=59:\n",
      "(5373828 : 15553093 : 1)\n",
      "(1946734 : 6048270 : 1)\n",
      "------------------------\n",
      "Para primo p=61:\n",
      "(1351545 : 18726878 : 1)\n",
      "(14913294 : 9742319 : 1)\n",
      "------------------------\n",
      "Para primo p=67:\n",
      "(324819 : 13850668 : 1)\n",
      "(3257888 : 3915693 : 1)\n",
      "------------------------\n",
      "Para primo p=71:\n",
      "(13633623 : 510471 : 1)\n",
      "(2514315 : 1261066 : 1)\n",
      "------------------------\n",
      "Para primo p=73:\n",
      "(5609435 : 2062520 : 1)\n",
      "(2088615 : 17896607 : 1)\n",
      "------------------------\n",
      "Para primo p=79:\n",
      "(8492763 : 13070572 : 1)\n",
      "(16368822 : 15328988 : 1)\n",
      "------------------------\n",
      "Para primo p=83:\n",
      "(6039666 : 1633189 : 1)\n",
      "(18860795 : 14374621 : 1)\n",
      "------------------------\n",
      "Para primo p=89:\n",
      "(4863653 : 3479319 : 1)\n",
      "(15796698 : 9024495 : 1)\n",
      "------------------------\n",
      "Para primo p=97:\n",
      "(9794581 : 15243942 : 1)\n",
      "(151687 : 5415552 : 1)\n",
      "------------------------\n",
      "Para primo p=101:\n",
      "(6118176 : 6271446 : 1)\n",
      "------------------------\n",
      "Para primo p=103:\n",
      "(15670343 : 5055286 : 1)\n",
      "------------------------\n",
      "Para primo p=107:\n",
      "(18570619 : 804921 : 1)\n",
      "------------------------\n",
      "Para primo p=109:\n",
      "(14706421 : 9205196 : 1)\n",
      "------------------------\n",
      "Para primo p=113:\n",
      "(13507725 : 11106583 : 1)\n",
      "------------------------\n",
      "Para primo p=127:\n",
      "(7961151 : 11344209 : 1)\n",
      "------------------------\n",
      "Para primo p=131:\n",
      "(3389543 : 16123484 : 1)\n",
      "------------------------\n",
      "Para primo p=137:\n",
      "(11171913 : 424408 : 1)\n",
      "------------------------\n",
      "Para primo p=139:\n",
      "(15835877 : 12921557 : 1)\n",
      "------------------------\n",
      "Para primo p=149:\n",
      "(12400911 : 7035077 : 1)\n",
      "------------------------\n",
      "Para primo p=151:\n",
      "(18865243 : 15919818 : 1)\n",
      "------------------------\n",
      "Para primo p=157:\n",
      "(16634951 : 4012781 : 1)\n",
      "------------------------\n",
      "Para primo p=163:\n",
      "(3868341 : 14438015 : 1)\n",
      "------------------------\n",
      "Para primo p=167:\n",
      "(6727338 : 51668 : 1)\n",
      "------------------------\n",
      "Para primo p=173:\n",
      "(12440222 : 16521148 : 1)\n",
      "------------------------\n",
      "Para primo p=179:\n",
      "(17533666 : 16973376 : 1)\n",
      "------------------------\n",
      "Para primo p=181:\n"
     ]
    },
    {
     "ename": "ZeroDivisionError",
     "evalue": "Inverse of 2098267 does not exist (characteristic = 19249319 = 91229*211)",
     "output_type": "error",
     "traceback": [
      "\u001b[0;31m---------------------------------------------------------------------------\u001b[0m",
      "\u001b[0;31mZeroDivisionError\u001b[0m                         Traceback (most recent call last)",
      "\u001b[0;32m/opt/sagemath-9.3/local/lib/python3.7/site-packages/sage/schemes/elliptic_curves/ell_point.py\u001b[0m in \u001b[0;36m_add_\u001b[0;34m(self, right)\u001b[0m\n\u001b[1;32m    672\u001b[0m             \u001b[0;32mtry\u001b[0m\u001b[0;34m:\u001b[0m\u001b[0;34m\u001b[0m\u001b[0;34m\u001b[0m\u001b[0m\n\u001b[0;32m--> 673\u001b[0;31m                 \u001b[0mm\u001b[0m \u001b[0;34m=\u001b[0m \u001b[0;34m(\u001b[0m\u001b[0my1\u001b[0m\u001b[0;34m-\u001b[0m\u001b[0my2\u001b[0m\u001b[0;34m)\u001b[0m\u001b[0;34m/\u001b[0m\u001b[0;34m(\u001b[0m\u001b[0mx1\u001b[0m\u001b[0;34m-\u001b[0m\u001b[0mx2\u001b[0m\u001b[0;34m)\u001b[0m\u001b[0;34m\u001b[0m\u001b[0;34m\u001b[0m\u001b[0m\n\u001b[0m\u001b[1;32m    674\u001b[0m             \u001b[0;32mexcept\u001b[0m \u001b[0mZeroDivisionError\u001b[0m\u001b[0;34m:\u001b[0m\u001b[0;34m\u001b[0m\u001b[0;34m\u001b[0m\u001b[0m\n",
      "\u001b[0;32m/opt/sagemath-9.3/local/lib/python3.7/site-packages/sage/structure/element.pyx\u001b[0m in \u001b[0;36msage.structure.element.Element.__truediv__ (build/cythonized/sage/structure/element.c:13153)\u001b[0;34m()\u001b[0m\n\u001b[1;32m   1734\u001b[0m         \u001b[0;32mif\u001b[0m \u001b[0mHAVE_SAME_PARENT\u001b[0m\u001b[0;34m(\u001b[0m\u001b[0mcl\u001b[0m\u001b[0;34m)\u001b[0m\u001b[0;34m:\u001b[0m\u001b[0;34m\u001b[0m\u001b[0;34m\u001b[0m\u001b[0m\n\u001b[0;32m-> 1735\u001b[0;31m             \u001b[0;32mreturn\u001b[0m \u001b[0;34m(\u001b[0m\u001b[0;34m<\u001b[0m\u001b[0mElement\u001b[0m\u001b[0;34m>\u001b[0m\u001b[0mleft\u001b[0m\u001b[0;34m)\u001b[0m\u001b[0;34m.\u001b[0m\u001b[0m_div_\u001b[0m\u001b[0;34m(\u001b[0m\u001b[0mright\u001b[0m\u001b[0;34m)\u001b[0m\u001b[0;34m\u001b[0m\u001b[0;34m\u001b[0m\u001b[0m\n\u001b[0m\u001b[1;32m   1736\u001b[0m         \u001b[0;32mif\u001b[0m \u001b[0mBOTH_ARE_ELEMENT\u001b[0m\u001b[0;34m(\u001b[0m\u001b[0mcl\u001b[0m\u001b[0;34m)\u001b[0m\u001b[0;34m:\u001b[0m\u001b[0;34m\u001b[0m\u001b[0;34m\u001b[0m\u001b[0m\n",
      "\u001b[0;32m/opt/sagemath-9.3/local/lib/python3.7/site-packages/sage/rings/finite_rings/integer_mod.pyx\u001b[0m in \u001b[0;36msage.rings.finite_rings.integer_mod.IntegerMod_int64._div_ (build/cythonized/sage/rings/finite_rings/integer_mod.c:34050)\u001b[0;34m()\u001b[0m\n\u001b[1;32m   3346\u001b[0m         \"\"\"\n\u001b[0;32m-> 3347\u001b[0;31m         return self._new_c((self.ivalue * mod_inverse_int64((<IntegerMod_int64>right).ivalue,\n\u001b[0m\u001b[1;32m   3348\u001b[0m                                    self.__modulus.int64) ) % self.__modulus.int64)\n",
      "\u001b[0;32m/opt/sagemath-9.3/local/lib/python3.7/site-packages/sage/rings/finite_rings/integer_mod.pyx\u001b[0m in \u001b[0;36msage.rings.finite_rings.integer_mod.mod_inverse_int64 (build/cythonized/sage/rings/finite_rings/integer_mod.c:36159)\u001b[0;34m()\u001b[0m\n\u001b[1;32m   3694\u001b[0m         \u001b[0mnext_t\u001b[0m \u001b[0;34m=\u001b[0m \u001b[0mlast_t\u001b[0m \u001b[0;34m-\u001b[0m \u001b[0mq\u001b[0m \u001b[0;34m*\u001b[0m \u001b[0mt\u001b[0m\u001b[0;34m\u001b[0m\u001b[0;34m\u001b[0m\u001b[0m\n\u001b[0;32m-> 3695\u001b[0;31m     \u001b[0;32mraise\u001b[0m \u001b[0mZeroDivisionError\u001b[0m\u001b[0;34m(\u001b[0m\u001b[0;34mf\"inverse of Mod({x}, {n}) does not exist\"\u001b[0m\u001b[0;34m)\u001b[0m\u001b[0;34m\u001b[0m\u001b[0;34m\u001b[0m\u001b[0m\n\u001b[0m\u001b[1;32m   3696\u001b[0m \u001b[0;34m\u001b[0m\u001b[0m\n",
      "\u001b[0;31mZeroDivisionError\u001b[0m: inverse of Mod(2098267, 19249319) does not exist",
      "\nDuring handling of the above exception, another exception occurred:\n",
      "\u001b[0;31mZeroDivisionError\u001b[0m                         Traceback (most recent call last)",
      "\u001b[0;32m<ipython-input-8-9c173bba1811>\u001b[0m in \u001b[0;36m<module>\u001b[0;34m\u001b[0m\n\u001b[1;32m      2\u001b[0m     \u001b[0mprint\u001b[0m\u001b[0;34m(\u001b[0m\u001b[0;34mf\"Para primo p={p}:\"\u001b[0m\u001b[0;34m)\u001b[0m\u001b[0;34m\u001b[0m\u001b[0;34m\u001b[0m\u001b[0m\n\u001b[1;32m      3\u001b[0m     \u001b[0;32mfor\u001b[0m \u001b[0mj\u001b[0m \u001b[0;32min\u001b[0m \u001b[0mrange\u001b[0m\u001b[0;34m(\u001b[0m\u001b[0mInteger\u001b[0m\u001b[0;34m(\u001b[0m\u001b[0;36m1\u001b[0m\u001b[0;34m)\u001b[0m\u001b[0;34m,\u001b[0m\u001b[0ma_i\u001b[0m\u001b[0;34m+\u001b[0m\u001b[0mInteger\u001b[0m\u001b[0;34m(\u001b[0m\u001b[0;36m1\u001b[0m\u001b[0;34m)\u001b[0m\u001b[0;34m)\u001b[0m\u001b[0;34m:\u001b[0m\u001b[0;34m\u001b[0m\u001b[0;34m\u001b[0m\u001b[0m\n\u001b[0;32m----> 4\u001b[0;31m         \u001b[0mP\u001b[0m \u001b[0;34m=\u001b[0m \u001b[0mp\u001b[0m\u001b[0;34m*\u001b[0m\u001b[0mP\u001b[0m\u001b[0;34m\u001b[0m\u001b[0;34m\u001b[0m\u001b[0m\n\u001b[0m\u001b[1;32m      5\u001b[0m         \u001b[0mprint\u001b[0m\u001b[0;34m(\u001b[0m\u001b[0mP\u001b[0m\u001b[0;34m)\u001b[0m\u001b[0;34m\u001b[0m\u001b[0;34m\u001b[0m\u001b[0m\n\u001b[1;32m      6\u001b[0m \u001b[0;34m\u001b[0m\u001b[0m\n",
      "\u001b[0;32m/opt/sagemath-9.3/local/lib/python3.7/site-packages/sage/rings/integer.pyx\u001b[0m in \u001b[0;36msage.rings.integer.Integer.__mul__ (build/cythonized/sage/rings/integer.c:14014)\u001b[0;34m()\u001b[0m\n\u001b[1;32m   1980\u001b[0m             \u001b[0;32mreturn\u001b[0m \u001b[0my\u001b[0m\u001b[0;34m\u001b[0m\u001b[0;34m\u001b[0m\u001b[0m\n\u001b[1;32m   1981\u001b[0m \u001b[0;34m\u001b[0m\u001b[0m\n\u001b[0;32m-> 1982\u001b[0;31m         \u001b[0;32mreturn\u001b[0m \u001b[0mcoercion_model\u001b[0m\u001b[0;34m.\u001b[0m\u001b[0mbin_op\u001b[0m\u001b[0;34m(\u001b[0m\u001b[0mleft\u001b[0m\u001b[0;34m,\u001b[0m \u001b[0mright\u001b[0m\u001b[0;34m,\u001b[0m \u001b[0moperator\u001b[0m\u001b[0;34m.\u001b[0m\u001b[0mmul\u001b[0m\u001b[0;34m)\u001b[0m\u001b[0;34m\u001b[0m\u001b[0;34m\u001b[0m\u001b[0m\n\u001b[0m\u001b[1;32m   1983\u001b[0m \u001b[0;34m\u001b[0m\u001b[0m\n\u001b[1;32m   1984\u001b[0m     \u001b[0mcpdef\u001b[0m \u001b[0m_mul_\u001b[0m\u001b[0;34m(\u001b[0m\u001b[0mself\u001b[0m\u001b[0;34m,\u001b[0m \u001b[0mright\u001b[0m\u001b[0;34m)\u001b[0m\u001b[0;34m:\u001b[0m\u001b[0;34m\u001b[0m\u001b[0;34m\u001b[0m\u001b[0m\n",
      "\u001b[0;32m/opt/sagemath-9.3/local/lib/python3.7/site-packages/sage/structure/coerce.pyx\u001b[0m in \u001b[0;36msage.structure.coerce.CoercionModel.bin_op (build/cythonized/sage/structure/coerce.c:10585)\u001b[0;34m()\u001b[0m\n\u001b[1;32m   1192\u001b[0m         \u001b[0;32mif\u001b[0m \u001b[0maction\u001b[0m \u001b[0;32mis\u001b[0m \u001b[0;32mnot\u001b[0m \u001b[0;32mNone\u001b[0m\u001b[0;34m:\u001b[0m\u001b[0;34m\u001b[0m\u001b[0;34m\u001b[0m\u001b[0m\n\u001b[1;32m   1193\u001b[0m             \u001b[0;32mif\u001b[0m \u001b[0;34m(\u001b[0m\u001b[0;34m<\u001b[0m\u001b[0mAction\u001b[0m\u001b[0;34m>\u001b[0m\u001b[0maction\u001b[0m\u001b[0;34m)\u001b[0m\u001b[0;34m.\u001b[0m\u001b[0m_is_left\u001b[0m\u001b[0;34m:\u001b[0m\u001b[0;34m\u001b[0m\u001b[0;34m\u001b[0m\u001b[0m\n\u001b[0;32m-> 1194\u001b[0;31m                 \u001b[0;32mreturn\u001b[0m \u001b[0;34m(\u001b[0m\u001b[0;34m<\u001b[0m\u001b[0mAction\u001b[0m\u001b[0;34m>\u001b[0m\u001b[0maction\u001b[0m\u001b[0;34m)\u001b[0m\u001b[0;34m.\u001b[0m\u001b[0m_act_\u001b[0m\u001b[0;34m(\u001b[0m\u001b[0mx\u001b[0m\u001b[0;34m,\u001b[0m \u001b[0my\u001b[0m\u001b[0;34m)\u001b[0m\u001b[0;34m\u001b[0m\u001b[0;34m\u001b[0m\u001b[0m\n\u001b[0m\u001b[1;32m   1195\u001b[0m             \u001b[0;32melse\u001b[0m\u001b[0;34m:\u001b[0m\u001b[0;34m\u001b[0m\u001b[0;34m\u001b[0m\u001b[0m\n\u001b[1;32m   1196\u001b[0m                 \u001b[0;32mreturn\u001b[0m \u001b[0;34m(\u001b[0m\u001b[0;34m<\u001b[0m\u001b[0mAction\u001b[0m\u001b[0;34m>\u001b[0m\u001b[0maction\u001b[0m\u001b[0;34m)\u001b[0m\u001b[0;34m.\u001b[0m\u001b[0m_act_\u001b[0m\u001b[0;34m(\u001b[0m\u001b[0my\u001b[0m\u001b[0;34m,\u001b[0m \u001b[0mx\u001b[0m\u001b[0;34m)\u001b[0m\u001b[0;34m\u001b[0m\u001b[0;34m\u001b[0m\u001b[0m\n",
      "\u001b[0;32m/opt/sagemath-9.3/local/lib/python3.7/site-packages/sage/structure/coerce_actions.pyx\u001b[0m in \u001b[0;36msage.structure.coerce_actions.IntegerMulAction._act_ (build/cythonized/sage/structure/coerce_actions.c:9804)\u001b[0;34m()\u001b[0m\n\u001b[1;32m    787\u001b[0m \u001b[0;34m\u001b[0m\u001b[0m\n\u001b[1;32m    788\u001b[0m         \u001b[0;32mif\u001b[0m \u001b[0minteger_check_long\u001b[0m\u001b[0;34m(\u001b[0m\u001b[0mnn\u001b[0m\u001b[0;34m,\u001b[0m \u001b[0;34m&\u001b[0m\u001b[0mn_long\u001b[0m\u001b[0;34m,\u001b[0m \u001b[0;34m&\u001b[0m\u001b[0merr\u001b[0m\u001b[0;34m)\u001b[0m \u001b[0;32mand\u001b[0m \u001b[0;32mnot\u001b[0m \u001b[0merr\u001b[0m\u001b[0;34m:\u001b[0m\u001b[0;34m\u001b[0m\u001b[0;34m\u001b[0m\u001b[0m\n\u001b[0;32m--> 789\u001b[0;31m             \u001b[0;32mreturn\u001b[0m \u001b[0mfast_mul_long\u001b[0m\u001b[0;34m(\u001b[0m\u001b[0ma\u001b[0m\u001b[0;34m,\u001b[0m \u001b[0mn_long\u001b[0m\u001b[0;34m)\u001b[0m\u001b[0;34m\u001b[0m\u001b[0;34m\u001b[0m\u001b[0m\n\u001b[0m\u001b[1;32m    790\u001b[0m \u001b[0;34m\u001b[0m\u001b[0m\n\u001b[1;32m    791\u001b[0m         \u001b[0;32mreturn\u001b[0m \u001b[0mfast_mul\u001b[0m\u001b[0;34m(\u001b[0m\u001b[0ma\u001b[0m\u001b[0;34m,\u001b[0m \u001b[0mnn\u001b[0m\u001b[0;34m)\u001b[0m\u001b[0;34m\u001b[0m\u001b[0;34m\u001b[0m\u001b[0m\n",
      "\u001b[0;32m/opt/sagemath-9.3/local/lib/python3.7/site-packages/sage/structure/coerce_actions.pyx\u001b[0m in \u001b[0;36msage.structure.coerce_actions.fast_mul_long (build/cythonized/sage/structure/coerce_actions.c:11446)\u001b[0;34m()\u001b[0m\n\u001b[1;32m    951\u001b[0m         \u001b[0mpow2a\u001b[0m \u001b[0;34m+=\u001b[0m \u001b[0mpow2a\u001b[0m\u001b[0;34m\u001b[0m\u001b[0;34m\u001b[0m\u001b[0m\n\u001b[1;32m    952\u001b[0m         \u001b[0;32mif\u001b[0m \u001b[0mn\u001b[0m \u001b[0;34m&\u001b[0m \u001b[0;36m1\u001b[0m\u001b[0;34m:\u001b[0m\u001b[0;34m\u001b[0m\u001b[0;34m\u001b[0m\u001b[0m\n\u001b[0;32m--> 953\u001b[0;31m             \u001b[0msum\u001b[0m \u001b[0;34m+=\u001b[0m \u001b[0mpow2a\u001b[0m\u001b[0;34m\u001b[0m\u001b[0;34m\u001b[0m\u001b[0m\n\u001b[0m\u001b[1;32m    954\u001b[0m         \u001b[0mn\u001b[0m \u001b[0;34m=\u001b[0m \u001b[0mn\u001b[0m \u001b[0;34m>>\u001b[0m \u001b[0;36m1\u001b[0m\u001b[0;34m\u001b[0m\u001b[0;34m\u001b[0m\u001b[0m\n\u001b[1;32m    955\u001b[0m     \u001b[0;32mreturn\u001b[0m \u001b[0msum\u001b[0m\u001b[0;34m\u001b[0m\u001b[0;34m\u001b[0m\u001b[0m\n",
      "\u001b[0;32m/opt/sagemath-9.3/local/lib/python3.7/site-packages/sage/structure/element.pyx\u001b[0m in \u001b[0;36msage.structure.element.Element.__add__ (build/cythonized/sage/structure/element.c:10954)\u001b[0;34m()\u001b[0m\n\u001b[1;32m   1227\u001b[0m         \u001b[0mcdef\u001b[0m \u001b[0mint\u001b[0m \u001b[0mcl\u001b[0m \u001b[0;34m=\u001b[0m \u001b[0mclassify_elements\u001b[0m\u001b[0;34m(\u001b[0m\u001b[0mleft\u001b[0m\u001b[0;34m,\u001b[0m \u001b[0mright\u001b[0m\u001b[0;34m)\u001b[0m\u001b[0;34m\u001b[0m\u001b[0;34m\u001b[0m\u001b[0m\n\u001b[1;32m   1228\u001b[0m         \u001b[0;32mif\u001b[0m \u001b[0mHAVE_SAME_PARENT\u001b[0m\u001b[0;34m(\u001b[0m\u001b[0mcl\u001b[0m\u001b[0;34m)\u001b[0m\u001b[0;34m:\u001b[0m\u001b[0;34m\u001b[0m\u001b[0;34m\u001b[0m\u001b[0m\n\u001b[0;32m-> 1229\u001b[0;31m             \u001b[0;32mreturn\u001b[0m \u001b[0;34m(\u001b[0m\u001b[0;34m<\u001b[0m\u001b[0mElement\u001b[0m\u001b[0;34m>\u001b[0m\u001b[0mleft\u001b[0m\u001b[0;34m)\u001b[0m\u001b[0;34m.\u001b[0m\u001b[0m_add_\u001b[0m\u001b[0;34m(\u001b[0m\u001b[0mright\u001b[0m\u001b[0;34m)\u001b[0m\u001b[0;34m\u001b[0m\u001b[0;34m\u001b[0m\u001b[0m\n\u001b[0m\u001b[1;32m   1230\u001b[0m         \u001b[0;31m# Left and right are Sage elements => use coercion model\u001b[0m\u001b[0;34m\u001b[0m\u001b[0;34m\u001b[0m\u001b[0;34m\u001b[0m\u001b[0m\n\u001b[1;32m   1231\u001b[0m         \u001b[0;32mif\u001b[0m \u001b[0mBOTH_ARE_ELEMENT\u001b[0m\u001b[0;34m(\u001b[0m\u001b[0mcl\u001b[0m\u001b[0;34m)\u001b[0m\u001b[0;34m:\u001b[0m\u001b[0;34m\u001b[0m\u001b[0;34m\u001b[0m\u001b[0m\n",
      "\u001b[0;32m/opt/sagemath-9.3/local/lib/python3.7/site-packages/sage/structure/element.pyx\u001b[0m in \u001b[0;36msage.structure.element.ModuleElement._add_ (build/cythonized/sage/structure/element.c:15565)\u001b[0;34m()\u001b[0m\n\u001b[1;32m   2363\u001b[0m     \u001b[0mGeneric\u001b[0m \u001b[0melement\u001b[0m \u001b[0mof\u001b[0m \u001b[0ma\u001b[0m \u001b[0mmodule\u001b[0m\u001b[0;34m.\u001b[0m\u001b[0;34m\u001b[0m\u001b[0;34m\u001b[0m\u001b[0m\n\u001b[1;32m   2364\u001b[0m     \"\"\"\n\u001b[0;32m-> 2365\u001b[0;31m     \u001b[0mcpdef\u001b[0m \u001b[0m_add_\u001b[0m\u001b[0;34m(\u001b[0m\u001b[0mself\u001b[0m\u001b[0;34m,\u001b[0m \u001b[0mother\u001b[0m\u001b[0;34m)\u001b[0m\u001b[0;34m:\u001b[0m\u001b[0;34m\u001b[0m\u001b[0;34m\u001b[0m\u001b[0m\n\u001b[0m\u001b[1;32m   2366\u001b[0m         \"\"\"\n\u001b[1;32m   2367\u001b[0m         \u001b[0mAbstract\u001b[0m \u001b[0maddition\u001b[0m \u001b[0mmethod\u001b[0m\u001b[0;34m\u001b[0m\u001b[0;34m\u001b[0m\u001b[0m\n",
      "\u001b[0;32m/opt/sagemath-9.3/local/lib/python3.7/site-packages/sage/schemes/elliptic_curves/ell_point.py\u001b[0m in \u001b[0;36m_add_\u001b[0;34m(self, right)\u001b[0m\n\u001b[1;32m    678\u001b[0m                     \u001b[0mN1\u001b[0m \u001b[0;34m=\u001b[0m \u001b[0mN\u001b[0m\u001b[0;34m.\u001b[0m\u001b[0mgcd\u001b[0m\u001b[0;34m(\u001b[0m\u001b[0mInteger\u001b[0m\u001b[0;34m(\u001b[0m\u001b[0mx1\u001b[0m\u001b[0;34m-\u001b[0m\u001b[0mx2\u001b[0m\u001b[0;34m)\u001b[0m\u001b[0;34m)\u001b[0m\u001b[0;34m\u001b[0m\u001b[0;34m\u001b[0m\u001b[0m\n\u001b[1;32m    679\u001b[0m                     \u001b[0mN2\u001b[0m \u001b[0;34m=\u001b[0m \u001b[0mN\u001b[0m\u001b[0;34m//\u001b[0m\u001b[0mN1\u001b[0m\u001b[0;34m\u001b[0m\u001b[0;34m\u001b[0m\u001b[0m\n\u001b[0;32m--> 680\u001b[0;31m                     \u001b[0;32mraise\u001b[0m \u001b[0mZeroDivisionError\u001b[0m\u001b[0;34m(\u001b[0m\u001b[0;34m\"Inverse of %s does not exist (characteristic = %s = %s*%s)\"\u001b[0m \u001b[0;34m%\u001b[0m \u001b[0;34m(\u001b[0m\u001b[0mx1\u001b[0m\u001b[0;34m-\u001b[0m\u001b[0mx2\u001b[0m\u001b[0;34m,\u001b[0m \u001b[0mN\u001b[0m\u001b[0;34m,\u001b[0m \u001b[0mN1\u001b[0m\u001b[0;34m,\u001b[0m \u001b[0mN2\u001b[0m\u001b[0;34m)\u001b[0m\u001b[0;34m)\u001b[0m\u001b[0;34m\u001b[0m\u001b[0;34m\u001b[0m\u001b[0m\n\u001b[0m\u001b[1;32m    681\u001b[0m                 \u001b[0;32melse\u001b[0m\u001b[0;34m:\u001b[0m\u001b[0;34m\u001b[0m\u001b[0;34m\u001b[0m\u001b[0m\n\u001b[1;32m    682\u001b[0m                     \u001b[0;32mraise\u001b[0m \u001b[0mZeroDivisionError\u001b[0m\u001b[0;34m(\u001b[0m\u001b[0;34m\"Inverse of %s does not exist\"\u001b[0m \u001b[0;34m%\u001b[0m \u001b[0;34m(\u001b[0m\u001b[0mx1\u001b[0m\u001b[0;34m-\u001b[0m\u001b[0mx2\u001b[0m\u001b[0;34m)\u001b[0m\u001b[0;34m)\u001b[0m\u001b[0;34m\u001b[0m\u001b[0;34m\u001b[0m\u001b[0m\n",
      "\u001b[0;31mZeroDivisionError\u001b[0m: Inverse of 2098267 does not exist (characteristic = 19249319 = 91229*211)"
     ]
    }
   ],
   "source": [
    "for p,a_i in lista_a_i:\n",
    "    print(f\"Para primo p={p}:\")\n",
    "    for j in range(1,a_i+1):\n",
    "        P = p*P\n",
    "        print(P)\n",
    "    \n",
    "    print(\"------------------------\")\n",
    "        \n",
    "        "
   ]
  },
  {
   "cell_type": "code",
   "execution_count": null,
   "metadata": {},
   "outputs": [],
   "source": [
    "f1 = gcd(N, 13030305)\n",
    "f1"
   ]
  },
  {
   "cell_type": "code",
   "execution_count": null,
   "metadata": {},
   "outputs": [],
   "source": [
    "f2 = N/f1\n",
    "f2"
   ]
  },
  {
   "cell_type": "code",
   "execution_count": null,
   "metadata": {},
   "outputs": [],
   "source": [
    "N == f1*f2"
   ]
  }
 ],
 "metadata": {
  "kernelspec": {
   "display_name": "SageMath 9.3",
   "language": "sage",
   "name": "sagemath"
  },
  "language_info": {
   "codemirror_mode": {
    "name": "ipython",
    "version": 3
   },
   "file_extension": ".py",
   "mimetype": "text/x-python",
   "name": "python",
   "nbconvert_exporter": "python",
   "pygments_lexer": "ipython3",
   "version": "3.7.10"
  }
 },
 "nbformat": 4,
 "nbformat_minor": 4
}
