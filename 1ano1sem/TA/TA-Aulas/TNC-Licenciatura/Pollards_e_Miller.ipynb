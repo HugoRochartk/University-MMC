{
 "cells": [
  {
   "cell_type": "code",
   "execution_count": 1,
   "metadata": {},
   "outputs": [
    {
     "data": {
      "text/plain": [
       "'Algoritmo p-Pollard\\n\\nxk+1 ≡ f(xk) mod n        funcao f é dada e x0 tambem\\n\\niterar ate que (x2k - xk) != 1\\n\\nserve para fatorizar em numeros primos\\n\\n'"
      ]
     },
     "execution_count": 1,
     "metadata": {},
     "output_type": "execute_result"
    }
   ],
   "source": [
    "'''Algoritmo p-Pollard\n",
    "\n",
    "xk+1 ≡ f(xk) mod n        funcao f é dada e x0 tambem\n",
    "\n",
    "iterar ate que (x2k - xk) != 1\n",
    "\n",
    "serve para fatorizar em numeros primos\n",
    "\n",
    "'''"
   ]
  },
  {
   "cell_type": "code",
   "execution_count": 2,
   "metadata": {},
   "outputs": [
    {
     "data": {
      "text/plain": [
       "False"
      ]
     },
     "execution_count": 2,
     "metadata": {},
     "output_type": "execute_result"
    }
   ],
   "source": [
    "f = lambda x: x^2 + 1\n",
    "\n",
    "n = 36287\n",
    "\n",
    "is_prime(n)"
   ]
  },
  {
   "cell_type": "code",
   "execution_count": 3,
   "metadata": {},
   "outputs": [],
   "source": [
    "Zn = IntegerModRing(n)\n",
    "\n",
    "x0 = Zn(2)"
   ]
  },
  {
   "cell_type": "code",
   "execution_count": 4,
   "metadata": {},
   "outputs": [
    {
     "data": {
      "text/plain": [
       "1"
      ]
     },
     "execution_count": 4,
     "metadata": {},
     "output_type": "execute_result"
    }
   ],
   "source": [
    "a = f(x0)\n",
    "b = f(a)\n",
    "gcd(b-a, n)"
   ]
  },
  {
   "cell_type": "code",
   "execution_count": 5,
   "metadata": {},
   "outputs": [
    {
     "name": "stdout",
     "output_type": "stream",
     "text": [
      "b = 12066;\n",
      "a = 24380;\n",
      "mdc(b-a, n) = 131;\n"
     ]
    }
   ],
   "source": [
    "while gcd(b-a,n) == 1:\n",
    "    a = f(a)\n",
    "    b = f(f(b))\n",
    "print(f\"b = {b};\\na = {a};\\nmdc(b-a, n) = {gcd(b-a, n)};\")"
   ]
  },
  {
   "cell_type": "code",
   "execution_count": 6,
   "metadata": {},
   "outputs": [],
   "source": [
    "c = mod(ZZ(x0), gcd(b-a,n))\n",
    "L = [(c,0)]\n",
    "for i in range(1,20):\n",
    "    c = mod(ZZ(f(ZZ(c))), gcd(b-a , n))\n",
    "    L.append((c, i))"
   ]
  },
  {
   "cell_type": "code",
   "execution_count": 7,
   "metadata": {},
   "outputs": [
    {
     "data": {
      "text/plain": [
       "[(2, 0),\n",
       " (5, 1),\n",
       " (26, 2),\n",
       " (22, 3),\n",
       " (92, 4),\n",
       " (81, 5),\n",
       " (12, 6),\n",
       " (14, 7),\n",
       " (66, 8),\n",
       " (34, 9),\n",
       " (109, 10),\n",
       " (92, 11),\n",
       " (81, 12),\n",
       " (12, 13),\n",
       " (14, 14),\n",
       " (66, 15),\n",
       " (34, 16),\n",
       " (109, 17),\n",
       " (92, 18),\n",
       " (81, 19)]"
      ]
     },
     "execution_count": 7,
     "metadata": {},
     "output_type": "execute_result"
    }
   ],
   "source": [
    "L"
   ]
  },
  {
   "cell_type": "code",
   "execution_count": 8,
   "metadata": {},
   "outputs": [],
   "source": [
    "def Pollard(n, f= lambda x: x^2+1, x0 = 3):\n",
    "        Zn = IntegerModRing(n)\n",
    "        x0 = Zn(x0)\n",
    "        a =  f(x0)\n",
    "        b =  f(a)\n",
    "        \n",
    "        while gcd(b-a,n) == 1:\n",
    "            a = f(a)\n",
    "            b = f(f(b))\n",
    "        \n",
    "        mdc = gcd(b-a, n)\n",
    "        return mdc\n",
    "        "
   ]
  },
  {
   "cell_type": "code",
   "execution_count": 9,
   "metadata": {},
   "outputs": [
    {
     "data": {
      "text/plain": [
       "36287"
      ]
     },
     "execution_count": 9,
     "metadata": {},
     "output_type": "execute_result"
    }
   ],
   "source": [
    "n"
   ]
  },
  {
   "cell_type": "code",
   "execution_count": 10,
   "metadata": {},
   "outputs": [
    {
     "data": {
      "text/plain": [
       "131"
      ]
     },
     "execution_count": 10,
     "metadata": {},
     "output_type": "execute_result"
    }
   ],
   "source": [
    "Pollard(n)"
   ]
  },
  {
   "cell_type": "code",
   "execution_count": 11,
   "metadata": {},
   "outputs": [
    {
     "data": {
      "text/plain": [
       "277"
      ]
     },
     "execution_count": 11,
     "metadata": {},
     "output_type": "execute_result"
    }
   ],
   "source": [
    "n / 131"
   ]
  },
  {
   "cell_type": "code",
   "execution_count": 12,
   "metadata": {},
   "outputs": [
    {
     "data": {
      "text/plain": [
       "True"
      ]
     },
     "execution_count": 12,
     "metadata": {},
     "output_type": "execute_result"
    }
   ],
   "source": [
    "n == 277 * 131"
   ]
  },
  {
   "cell_type": "code",
   "execution_count": 13,
   "metadata": {},
   "outputs": [
    {
     "data": {
      "text/plain": [
       "(True, True)"
      ]
     },
     "execution_count": 13,
     "metadata": {},
     "output_type": "execute_result"
    }
   ],
   "source": [
    "(is_prime(277), is_prime(131))"
   ]
  },
  {
   "cell_type": "code",
   "execution_count": 14,
   "metadata": {},
   "outputs": [],
   "source": [
    "'''\n",
    "p-1 Pollard\n",
    "'''\n",
    "\n",
    "n = 36287\n",
    "Zn = IntegerModRing(n)\n",
    "r = Zn(2)"
   ]
  },
  {
   "cell_type": "code",
   "execution_count": 15,
   "metadata": {},
   "outputs": [],
   "source": [
    "def p_menos_um_Pollard(n):\n",
    "    Zn = IntegerModRing(n)\n",
    "    r = Zn(2)\n",
    "    k = 1\n",
    "    while gcd(r-1, n) == 1:\n",
    "        r = r^k\n",
    "        k = k+1\n",
    "    mdc = gcd(r-1,n)\n",
    "    return mdc"
   ]
  },
  {
   "cell_type": "code",
   "execution_count": 16,
   "metadata": {},
   "outputs": [
    {
     "data": {
      "text/plain": [
       "131"
      ]
     },
     "execution_count": 16,
     "metadata": {},
     "output_type": "execute_result"
    }
   ],
   "source": [
    "p_menos_um_Pollard(n)"
   ]
  },
  {
   "cell_type": "code",
   "execution_count": 17,
   "metadata": {},
   "outputs": [
    {
     "name": "stdout",
     "output_type": "stream",
     "text": [
      "(5, 3)\n"
     ]
    }
   ],
   "source": [
    "#Miller\n",
    "\n",
    "n = 97 #ímpar\n",
    "n-1\n",
    "\n",
    "\n",
    "def decomp(n):\n",
    "    s = 1 #conta o nr de divisoes por 2\n",
    "    t = (n-1)//2\n",
    "    \n",
    "    while(is_even(t)):\n",
    "        s += 1\n",
    "        t = t//2\n",
    "        \n",
    "    return (s,t)\n",
    "        \n",
    "print(decomp(n))        "
   ]
  },
  {
   "cell_type": "code",
   "execution_count": 18,
   "metadata": {},
   "outputs": [],
   "source": [
    "def Miller(n, b=2):\n",
    "    Zn = IntegerModRing(n)\n",
    "    b = Zn(b)\n",
    "    s, t = decomp(n)\n",
    "    if b^t == 1:\n",
    "        return True\n",
    "    j = 0\n",
    "    while b^(2^j * t) != Zn(-1) and j <= s-1:\n",
    "        j = j+1\n",
    "    return b^(2^j * t) == Zn(-1)"
   ]
  },
  {
   "cell_type": "code",
   "execution_count": 19,
   "metadata": {},
   "outputs": [
    {
     "data": {
      "text/plain": [
       "True"
      ]
     },
     "execution_count": 19,
     "metadata": {},
     "output_type": "execute_result"
    }
   ],
   "source": [
    "Miller(97)"
   ]
  },
  {
   "cell_type": "code",
   "execution_count": 20,
   "metadata": {},
   "outputs": [
    {
     "data": {
      "text/plain": [
       "False"
      ]
     },
     "execution_count": 20,
     "metadata": {},
     "output_type": "execute_result"
    }
   ],
   "source": [
    "Miller(515)   #um pspforte passa no teste de miller e nao e primo"
   ]
  }
 ],
 "metadata": {
  "kernelspec": {
   "display_name": "SageMath 9.3",
   "language": "sage",
   "name": "sagemath"
  },
  "language_info": {
   "codemirror_mode": {
    "name": "ipython",
    "version": 3
   },
   "file_extension": ".py",
   "mimetype": "text/x-python",
   "name": "python",
   "nbconvert_exporter": "python",
   "pygments_lexer": "ipython3",
   "version": "3.7.10"
  }
 },
 "nbformat": 4,
 "nbformat_minor": 4
}
