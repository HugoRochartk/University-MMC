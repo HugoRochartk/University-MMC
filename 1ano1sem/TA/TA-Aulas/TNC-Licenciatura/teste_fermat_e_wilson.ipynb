{
 "cells": [
  {
   "cell_type": "code",
   "execution_count": 66,
   "metadata": {},
   "outputs": [
    {
     "data": {
      "text/plain": [
       "Ring of integers modulo 19"
      ]
     },
     "execution_count": 66,
     "metadata": {},
     "output_type": "execute_result"
    }
   ],
   "source": [
    "p = 19\n",
    "Zp = IntegerModRing(p) # é anel\n",
    "Zp"
   ]
  },
  {
   "cell_type": "code",
   "execution_count": 67,
   "metadata": {},
   "outputs": [
    {
     "name": "stdout",
     "output_type": "stream",
     "text": [
      "[0, 1, 2, 3, 4, 5, 6, 7, 8, 9, 10, 11, 12, 13, 14, 15, 16, 17, 18]\n"
     ]
    }
   ],
   "source": [
    "print([x for x in Zp])"
   ]
  },
  {
   "cell_type": "code",
   "execution_count": 68,
   "metadata": {},
   "outputs": [],
   "source": [
    "# (a,n) = mdc entre a e n\n",
    "# a | b  <=>  b = a*k   , k€Z\n",
    "\n",
    "# ax ≡ b mod n tem solução <=> (a,n) | b \n",
    "\n",
    "# a ≡ b mod n <=> n | a-b\n",
    "\n",
    "# a e n são primos relativos <=> (a,n) = 1\n"
   ]
  },
  {
   "cell_type": "code",
   "execution_count": 69,
   "metadata": {},
   "outputs": [
    {
     "data": {
      "text/plain": [
       "True"
      ]
     },
     "execution_count": 69,
     "metadata": {},
     "output_type": "execute_result"
    }
   ],
   "source": [
    "Zp.is_field() # é corpo"
   ]
  },
  {
   "cell_type": "code",
   "execution_count": 70,
   "metadata": {},
   "outputs": [],
   "source": [
    "# cálculo do mdc entre 135 e 105\n",
    "\n",
    "# 135 = 105 * 1 + 30\n",
    "# 105 = 30 * 3 + 15\n",
    "# 30 = 15 * 2 + 0    critério de paragem: último resto não nulo = 15\n",
    "\n",
    "#Logo (135, 105) = 15"
   ]
  },
  {
   "cell_type": "code",
   "execution_count": 71,
   "metadata": {},
   "outputs": [
    {
     "data": {
      "text/plain": [
       "13"
      ]
     },
     "execution_count": 71,
     "metadata": {},
     "output_type": "execute_result"
    }
   ],
   "source": [
    "a = Zp(3) #3 enquanto elemento de Zp\n",
    "1/a #inverso de 3 em Zp"
   ]
  },
  {
   "cell_type": "code",
   "execution_count": 72,
   "metadata": {},
   "outputs": [
    {
     "data": {
      "text/plain": [
       "1"
      ]
     },
     "execution_count": 72,
     "metadata": {},
     "output_type": "execute_result"
    }
   ],
   "source": [
    "a*13 #tipa tudo em Zp (mais restrito)"
   ]
  },
  {
   "cell_type": "code",
   "execution_count": 73,
   "metadata": {},
   "outputs": [
    {
     "data": {
      "text/plain": [
       "179769313486231590772930519078902473361797697894230657273430081157732675805500963132708477322407536021120113879871393357658789768814416622492847430639475495326128730055418916720358286149012628884608238524307878002995771232714537901652291102187814803038831816442085866438647042272997237841612379170235096238567"
      ]
     },
     "execution_count": 73,
     "metadata": {},
     "output_type": "execute_result"
    }
   ],
   "source": [
    "p1 = next_prime(2^510)\n",
    "q1 = next_prime(2^514)\n",
    "n = p1*q1\n",
    "n"
   ]
  },
  {
   "cell_type": "code",
   "execution_count": 74,
   "metadata": {},
   "outputs": [],
   "source": [
    "#(2^(n-1) % n) == 1 # averiguar se n é primo"
   ]
  },
  {
   "cell_type": "code",
   "execution_count": 75,
   "metadata": {},
   "outputs": [
    {
     "data": {
      "text/plain": [
       "False"
      ]
     },
     "execution_count": 75,
     "metadata": {},
     "output_type": "execute_result"
    }
   ],
   "source": [
    "power_mod(2, n-1, n) == 1  #não é primo pois da False   power_mod(base, n-1, n) == (base^(n-1) % n)"
   ]
  },
  {
   "cell_type": "code",
   "execution_count": 76,
   "metadata": {},
   "outputs": [],
   "source": [
    "#testa se um nr != 2 é primo (nao 100% seguro)\n",
    "#falha o caso dos nrs pseudo-primos\n",
    "def teste_Fermat(n, base = 2): #se o 2 argumento nao for especificado assume-se como sendo 2\n",
    "    if gcd(base, n) != 1:  #gcd = mdc\n",
    "        return False\n",
    "    return power_mod(base, n-1, n) == 1\n"
   ]
  },
  {
   "cell_type": "code",
   "execution_count": 77,
   "metadata": {},
   "outputs": [
    {
     "data": {
      "text/plain": [
       "[341, 561, 645]"
      ]
     },
     "execution_count": 77,
     "metadata": {},
     "output_type": "execute_result"
    }
   ],
   "source": [
    "[j for j in range(3,1000,2) if j not in Primes() and teste_Fermat(j)] #pseudo primos"
   ]
  },
  {
   "cell_type": "code",
   "execution_count": 78,
   "metadata": {},
   "outputs": [
    {
     "data": {
      "text/plain": [
       "False"
      ]
     },
     "execution_count": 78,
     "metadata": {},
     "output_type": "execute_result"
    }
   ],
   "source": [
    "# n é primo <=> (n-1)! ≡ -1 mod n      não é eficiente\n",
    "\n",
    "def is_prime_fact(n):\n",
    "    if (factorial(n-1) + 1) % n == 0:\n",
    "        return True\n",
    "    return False\n",
    "\n",
    "is_prime_fact(20)"
   ]
  },
  {
   "cell_type": "code",
   "execution_count": 79,
   "metadata": {},
   "outputs": [
    {
     "data": {
      "text/plain": [
       "[]"
      ]
     },
     "execution_count": 79,
     "metadata": {},
     "output_type": "execute_result"
    }
   ],
   "source": [
    "#calcula k! mod n\n",
    "\n",
    "def factorial_mod(k, n):\n",
    "    Zn = IntegerModRing(n)\n",
    "    fact = Zn(1)\n",
    "    for j in range(1, k+1):\n",
    "        fact = fact * j\n",
    "    return fact\n",
    "\n",
    "#teste se um n é primo com base no teorema de Wilson\n",
    "def teste_Wilson(n):\n",
    "    return factorial_mod(n-1, n) == mod(-1, n)\n",
    "\n",
    "[p for p in range(3,1000,2) if p in Primes() and teste_Wilson(p) == False]"
   ]
  },
  {
   "cell_type": "code",
   "execution_count": null,
   "metadata": {},
   "outputs": [],
   "source": []
  }
 ],
 "metadata": {
  "kernelspec": {
   "display_name": "SageMath 9.3",
   "language": "sage",
   "name": "sagemath"
  },
  "language_info": {
   "codemirror_mode": {
    "name": "ipython",
    "version": 3
   },
   "file_extension": ".py",
   "mimetype": "text/x-python",
   "name": "python",
   "nbconvert_exporter": "python",
   "pygments_lexer": "ipython3",
   "version": "3.7.10"
  }
 },
 "nbformat": 4,
 "nbformat_minor": 4
}
