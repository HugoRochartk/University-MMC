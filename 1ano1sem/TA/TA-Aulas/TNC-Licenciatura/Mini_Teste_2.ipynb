{
 "cells": [
  {
   "cell_type": "code",
   "execution_count": 78,
   "metadata": {},
   "outputs": [
    {
     "data": {
      "text/plain": [
       "(11727766830592979831, 35640834212194464972)"
      ]
     },
     "execution_count": 78,
     "metadata": {},
     "output_type": "execute_result"
    }
   ],
   "source": [
    "\n",
    "#verifica se um elemento x pertence ao SRR modulo n e dá a lista de todos os elems\n",
    "def pertence_SRR(x, n):\n",
    "    Zn = IntegerModRing(n)\n",
    "    res = [k for k in Zn if gcd(k,n) == 1]\n",
    "    return ((x in res), res)\n",
    "\n",
    "\n",
    "#verifica se x é raiz primitiva de n. se n tem raiz primitiva, n tem phi(phi(n)) RP's\n",
    "def e_RP(x, n):\n",
    "    Zn = IntegerModRing(n)\n",
    "    aux = Zn(x)\n",
    "    return (aux.multiplicative_order() == euler_phi(n))\n",
    "\n",
    "#diz o indice(root,a) modulo n.\n",
    "def indice(n,root,a):\n",
    "    Zn = IntegerModRing(n)\n",
    "    baixo = root\n",
    "    cima = a\n",
    "    return discrete_log(a,Zn(root))\n",
    "\n",
    "#calcular simbolo de legendre(a,b) pelo metodo de gauss\n",
    "\n",
    "def Lema_Gauss(a,b):\n",
    "    if(is_prime(b) == False or b == 2):\n",
    "        return f\"({a} | {b}) not possible to calculate. {b} is not prime or p = 2.\"\n",
    "    if (gcd(a,b) != 1):\n",
    "        return f\"not possible to apply Gauss, gcd({a}, {b}) is not 1\"\n",
    "    Zb = IntegerModRing(b)\n",
    "    L = [coef*a for coef in range(1, int( (b-1)/2 ) + 1 )]\n",
    "    L_vals = [Zb(elem) for elem in L]\n",
    "    L_s = [x for x in L_vals if int(x) > b/2]\n",
    "    s = len(L_s)\n",
    "    return( (-1)^s, L, L_vals, L_s, s)\n",
    "\n",
    "#verifica se n é pseudo primo Euler na base b\n",
    "def e_pseudo_primo_Euler(n, b):\n",
    "    if(gcd(n,b) != 1):\n",
    "        print(f\"cuidado com o {n}\")\n",
    "    if(is_prime(n)):\n",
    "        return False\n",
    "    Zn = IntegerModRing(n)\n",
    "    j_symbol = jacobi_symbol(b, n)\n",
    "    return (b^(int((n-1)/2)) % n == j_symbol % n)\n",
    "\n",
    "\n",
    "def EG_key_gen(n_bits=256):\n",
    "    p = random_prime(2^n_bits, 2^(n_bits-1))\n",
    "    Zp = IntegerModRing(p)\n",
    "    r = Zp.multiplicative_generator()\n",
    "    Priv_Key = randint(2, p-1)\n",
    "    b = r^Priv_Key\n",
    "    return ((p, r, b), Priv_Key)\n",
    "\n",
    "def EG_encrypt(mens, PubKey):\n",
    "    p, r, b = PubKey\n",
    "    Zp = IntegerModRing(p)\n",
    "    b = Zp(b)\n",
    "    r = Zp(r)\n",
    "    k = 4321\n",
    "    gama, delta = r^k, mens*b^k\n",
    "    return ZZ(gama), ZZ(delta)\n",
    "\n",
    "def EG_decrypt(cripto, Key):\n",
    "    pub_key, a = Key\n",
    "    p, _, _ = pub_key\n",
    "    gama, delta = cripto\n",
    "    Zp = IntegerModRing(p)\n",
    "    gama, delta = Zp(gama), Zp(delta)\n",
    "    decifr = 1/(gama^a) * delta\n",
    "    return decifr\n",
    "\n",
    "\n",
    "    \n",
    "EG_encrypt(1234, (39957963614327378639, 13, 2518634842003570977))"
   ]
  },
  {
   "cell_type": "code",
   "execution_count": 79,
   "metadata": {},
   "outputs": [
    {
     "data": {
      "text/plain": [
       "1243"
      ]
     },
     "execution_count": 79,
     "metadata": {},
     "output_type": "execute_result"
    }
   ],
   "source": [
    "sec_param = ((75518265610395683347, 2, 12067046520891421643),49146450468180530619)\n",
    "EG_decrypt((41259526162113520236, 7398136836408275049), sec_param)"
   ]
  },
  {
   "cell_type": "code",
   "execution_count": 80,
   "metadata": {},
   "outputs": [
    {
     "data": {
      "text/plain": [
       "['21 -> True', '46 -> False', '86 -> True', '207 -> False']"
      ]
     },
     "execution_count": 80,
     "metadata": {},
     "output_type": "execute_result"
    }
   ],
   "source": [
    "[ f\"{x} -> {e_RP(x,233)}\" for x in [21,46,86,207]]\n",
    "\n"
   ]
  },
  {
   "cell_type": "code",
   "execution_count": 81,
   "metadata": {},
   "outputs": [
    {
     "data": {
      "text/plain": [
       "(156779281780538872403684482548057222059,\n",
       " 9131965300972937379091280368083012356563896485178733939505926636572637281114305420416886292624774576184009570691040956347329011389571203252980071740576177,\n",
       " True,\n",
       " False,\n",
       " False,\n",
       " True)"
      ]
     },
     "execution_count": 81,
     "metadata": {},
     "output_type": "execute_result"
    }
   ],
   "source": [
    "n=1431702961131339621602945101050088245802771644687686106472404992618656781417216251296575852739319584928520070989102317406096771341195807540255351846662720304620283140579998725212022478694288443\n",
    "phin = 1431702961131339621602945101050088245793639679386713169093313712250573769060652354811397118799813658291947433707988011985679885048571032964071342275971679191493672348651555118274559858896490208\n",
    "\n",
    "\n",
    "pmaisq = (n-phin) + 1\n",
    "pmenosq = sqrt((pmaisq)^2 - 4*n)\n",
    "\n",
    "q = (pmenosq - pmaisq)/(-2)\n",
    "p = n/q\n",
    "(q, p, n == p*q, is_prime(p), is_prime(q), q<p)"
   ]
  },
  {
   "cell_type": "code",
   "execution_count": 82,
   "metadata": {},
   "outputs": [
    {
     "data": {
      "text/plain": [
       "True"
      ]
     },
     "execution_count": 82,
     "metadata": {},
     "output_type": "execute_result"
    }
   ],
   "source": [
    "is_prime(156779281780538872403684482548057222059)"
   ]
  },
  {
   "cell_type": "code",
   "execution_count": 83,
   "metadata": {},
   "outputs": [
    {
     "data": {
      "text/plain": [
       "(1,\n",
       " [9, 18, 27, 36, 45, 54, 63, 72, 81],\n",
       " [9, 18, 8, 17, 7, 16, 6, 15, 5],\n",
       " [18, 17, 16, 15],\n",
       " 4)"
      ]
     },
     "execution_count": 83,
     "metadata": {},
     "output_type": "execute_result"
    }
   ],
   "source": [
    "Lema_Gauss(9,19)"
   ]
  },
  {
   "cell_type": "code",
   "execution_count": 84,
   "metadata": {},
   "outputs": [
    {
     "data": {
      "text/plain": [
       "True"
      ]
     },
     "execution_count": 84,
     "metadata": {},
     "output_type": "execute_result"
    }
   ],
   "source": [
    "legendre_symbol(9,19) == (-1)^4"
   ]
  },
  {
   "cell_type": "code",
   "execution_count": 85,
   "metadata": {},
   "outputs": [
    {
     "name": "stdout",
     "output_type": "stream",
     "text": [
      "cuidado com o 81\n",
      "cuidado com o 729\n"
     ]
    },
    {
     "data": {
      "text/plain": [
       "['97 -> False', '81 -> True', '729 -> True', '1111 -> True']"
      ]
     },
     "execution_count": 85,
     "metadata": {},
     "output_type": "execute_result"
    }
   ],
   "source": [
    "[ f\"{x} -> {e_pseudo_primo_Euler(x,6)}\" for x in [97,81,729,1111]]"
   ]
  },
  {
   "cell_type": "code",
   "execution_count": 86,
   "metadata": {},
   "outputs": [
    {
     "data": {
      "text/plain": [
       "True"
      ]
     },
     "execution_count": 86,
     "metadata": {},
     "output_type": "execute_result"
    }
   ],
   "source": [
    "e_RP(7,121)"
   ]
  },
  {
   "cell_type": "code",
   "execution_count": 87,
   "metadata": {},
   "outputs": [
    {
     "data": {
      "text/plain": [
       "110"
      ]
     },
     "execution_count": 87,
     "metadata": {},
     "output_type": "execute_result"
    }
   ],
   "source": [
    "euler_phi(121)"
   ]
  },
  {
   "cell_type": "code",
   "execution_count": 88,
   "metadata": {},
   "outputs": [
    {
     "data": {
      "text/plain": [
       "False"
      ]
     },
     "execution_count": 88,
     "metadata": {},
     "output_type": "execute_result"
    }
   ],
   "source": [
    "is_prime(121)"
   ]
  },
  {
   "cell_type": "code",
   "execution_count": 90,
   "metadata": {},
   "outputs": [
    {
     "data": {
      "text/plain": [
       "55"
      ]
     },
     "execution_count": 90,
     "metadata": {},
     "output_type": "execute_result"
    }
   ],
   "source": [
    "Zn = IntegerModRing(121)\n",
    "\n",
    "Zn(5).multiplicative_order()"
   ]
  },
  {
   "cell_type": "code",
   "execution_count": 91,
   "metadata": {},
   "outputs": [
    {
     "data": {
      "text/plain": [
       "8"
      ]
     },
     "execution_count": 91,
     "metadata": {},
     "output_type": "execute_result"
    }
   ],
   "source": [
    "n=7*11\n",
    "a=60*10^6+3\n",
    "\n",
    "2^a % n"
   ]
  },
  {
   "cell_type": "code",
   "execution_count": 92,
   "metadata": {},
   "outputs": [],
   "source": [
    "def RSA_gen(nbits):\n",
    "    p = random_prime(2^(nbits//2+1), lbound=2^(nbits//2))\n",
    "    q = random_prime(2^(nbits//2), lbound=2^(nbits//2-1))\n",
    "    n = p*q\n",
    "    m = (p-1)*(q-1)\n",
    "    e = randint(2, m-1)\n",
    "    while gcd(e, m) != 1:\n",
    "        e = randint(2, m-1)\n",
    "    d = power_mod(e, -1, m)\n",
    "    PubKey = (n, e)\n",
    "    PrivKey = (n, d)\n",
    "    return PubKey, PrivKey\n",
    "\n",
    "def RSA_encrypt(PubKey, mens):\n",
    "    n, e = PubKey\n",
    "    return power_mod(mens, e, n)\n",
    "\n",
    "def RSA_decrypt(PrivKey, cripto):\n",
    "    n, d = PrivKey\n",
    "    return power_mod(cripto, d, n)"
   ]
  },
  {
   "cell_type": "code",
   "execution_count": 93,
   "metadata": {},
   "outputs": [
    {
     "data": {
      "text/plain": [
       "998500057"
      ]
     },
     "execution_count": 93,
     "metadata": {},
     "output_type": "execute_result"
    }
   ],
   "source": [
    "RSA_encrypt((1094521811, 334355023), 1234)"
   ]
  },
  {
   "cell_type": "code",
   "execution_count": 94,
   "metadata": {},
   "outputs": [
    {
     "data": {
      "text/plain": [
       "7191486730259864835"
      ]
     },
     "execution_count": 94,
     "metadata": {},
     "output_type": "execute_result"
    }
   ],
   "source": [
    "indice(10866345638861892013,8891774328350164200,223697900674860054)"
   ]
  },
  {
   "cell_type": "code",
   "execution_count": 95,
   "metadata": {},
   "outputs": [
    {
     "data": {
      "text/plain": [
       "True"
      ]
     },
     "execution_count": 95,
     "metadata": {},
     "output_type": "execute_result"
    }
   ],
   "source": [
    "is_prime(3109674461)"
   ]
  },
  {
   "cell_type": "code",
   "execution_count": 105,
   "metadata": {},
   "outputs": [
    {
     "data": {
      "text/plain": [
       "1289357029716390469"
      ]
     },
     "execution_count": 105,
     "metadata": {},
     "output_type": "execute_result"
    }
   ],
   "source": [
    "p=3109674461\n",
    "(n,e)=(3996511210646575343, 2726426989984118509) \n",
    "q = n/p\n",
    "phin = (p-1)*(q-1)\n",
    "\n",
    "for x in range(5,phin):\n",
    "    if(gcd(x, phin) == 1):\n",
    "        new_e = e\n",
    "        break\n",
    "gcd(2726426989984118509,phin)\n",
    "\n",
    "2726426989984118509 < phin\n",
    "phin\n",
    "\n",
    "\n",
    "d = power_mod(new_e, -1, phin)\n",
    "d"
   ]
  },
  {
   "cell_type": "code",
   "execution_count": null,
   "metadata": {},
   "outputs": [],
   "source": []
  }
 ],
 "metadata": {
  "kernelspec": {
   "display_name": "SageMath 9.3",
   "language": "sage",
   "name": "sagemath"
  },
  "language_info": {
   "codemirror_mode": {
    "name": "ipython",
    "version": 3
   },
   "file_extension": ".py",
   "mimetype": "text/x-python",
   "name": "python",
   "nbconvert_exporter": "python",
   "pygments_lexer": "ipython3",
   "version": "3.7.10"
  }
 },
 "nbformat": 4,
 "nbformat_minor": 4
}
