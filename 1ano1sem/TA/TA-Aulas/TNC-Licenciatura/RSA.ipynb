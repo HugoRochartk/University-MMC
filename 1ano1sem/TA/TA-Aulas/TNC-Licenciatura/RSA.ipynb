{
 "cells": [
  {
   "cell_type": "code",
   "execution_count": 127,
   "metadata": {},
   "outputs": [],
   "source": [
    "import math"
   ]
  },
  {
   "cell_type": "code",
   "execution_count": 128,
   "metadata": {},
   "outputs": [
    {
     "data": {
      "text/plain": [
       "(1013, 1511)"
      ]
     },
     "execution_count": 128,
     "metadata": {},
     "output_type": "execute_result"
    }
   ],
   "source": [
    "#RSA\n",
    "\n",
    "p = next_prime(1011)\n",
    "q = next_prime(1500)\n",
    "p, q"
   ]
  },
  {
   "cell_type": "code",
   "execution_count": 129,
   "metadata": {},
   "outputs": [
    {
     "data": {
      "text/plain": [
       "1530643"
      ]
     },
     "execution_count": 129,
     "metadata": {},
     "output_type": "execute_result"
    }
   ],
   "source": [
    "n = p*q\n",
    "n"
   ]
  },
  {
   "cell_type": "code",
   "execution_count": 130,
   "metadata": {},
   "outputs": [
    {
     "data": {
      "text/plain": [
       "'\\nphi(p) = p-1 se p primo\\nphi(p^α) = p^α - p^(α-1)\\nse (m,n) = 1 entao phi(m*n) = phi(m)*phi(n)\\n\\nLogo phi(n) = (p-1)(q-1)\\n'"
      ]
     },
     "execution_count": 130,
     "metadata": {},
     "output_type": "execute_result"
    }
   ],
   "source": [
    "'''\n",
    "phi(p) = p-1 se p primo\n",
    "phi(p^α) = p^α - p^(α-1)\n",
    "se (m,n) = 1 entao phi(m*n) = phi(m)*phi(n)\n",
    "\n",
    "Logo phi(n) = (p-1)(q-1)\n",
    "'''"
   ]
  },
  {
   "cell_type": "code",
   "execution_count": 131,
   "metadata": {},
   "outputs": [
    {
     "data": {
      "text/plain": [
       "1528120"
      ]
     },
     "execution_count": 131,
     "metadata": {},
     "output_type": "execute_result"
    }
   ],
   "source": [
    "m = (p-1)*(q-1)\n",
    "m"
   ]
  },
  {
   "cell_type": "code",
   "execution_count": 132,
   "metadata": {},
   "outputs": [
    {
     "data": {
      "text/plain": [
       "528000"
      ]
     },
     "execution_count": 132,
     "metadata": {},
     "output_type": "execute_result"
    }
   ],
   "source": [
    "euler_phi(m) #NUNCA FAZER ISTO!!"
   ]
  },
  {
   "cell_type": "code",
   "execution_count": 133,
   "metadata": {},
   "outputs": [],
   "source": [
    "Zn = IntegerModRing(n)\n",
    "Zm = IntegerModRing(m)\n"
   ]
  },
  {
   "cell_type": "code",
   "execution_count": 134,
   "metadata": {},
   "outputs": [
    {
     "data": {
      "text/plain": [
       "1"
      ]
     },
     "execution_count": 134,
     "metadata": {},
     "output_type": "execute_result"
    }
   ],
   "source": [
    "e = Zm.random_element()\n",
    "gcd(e, m)"
   ]
  },
  {
   "cell_type": "code",
   "execution_count": 135,
   "metadata": {},
   "outputs": [
    {
     "data": {
      "text/plain": [
       "887921"
      ]
     },
     "execution_count": 135,
     "metadata": {},
     "output_type": "execute_result"
    }
   ],
   "source": [
    "e"
   ]
  },
  {
   "cell_type": "code",
   "execution_count": 136,
   "metadata": {},
   "outputs": [
    {
     "data": {
      "text/plain": [
       "1295801"
      ]
     },
     "execution_count": 136,
     "metadata": {},
     "output_type": "execute_result"
    }
   ],
   "source": [
    "d = 1/e\n",
    "d"
   ]
  },
  {
   "cell_type": "code",
   "execution_count": 137,
   "metadata": {},
   "outputs": [],
   "source": [
    "e = ZZ(e) #expoente de cifraçao\n",
    "d = ZZ(d) #expoente de decifracao"
   ]
  },
  {
   "cell_type": "code",
   "execution_count": 138,
   "metadata": {},
   "outputs": [],
   "source": [
    "ChPriv = d"
   ]
  },
  {
   "cell_type": "code",
   "execution_count": 139,
   "metadata": {},
   "outputs": [
    {
     "data": {
      "text/plain": [
       "(1530643, 887921)"
      ]
     },
     "execution_count": 139,
     "metadata": {},
     "output_type": "execute_result"
    }
   ],
   "source": [
    "ChPub = (n, e)\n",
    "ChPub"
   ]
  },
  {
   "cell_type": "code",
   "execution_count": 140,
   "metadata": {},
   "outputs": [],
   "source": [
    "mens = 1235"
   ]
  },
  {
   "cell_type": "code",
   "execution_count": 141,
   "metadata": {},
   "outputs": [],
   "source": [
    "mens = Zn(mens)"
   ]
  },
  {
   "cell_type": "code",
   "execution_count": 142,
   "metadata": {},
   "outputs": [
    {
     "data": {
      "text/plain": [
       "1178766"
      ]
     },
     "execution_count": 142,
     "metadata": {},
     "output_type": "execute_result"
    }
   ],
   "source": [
    "criptograma = mens^e\n",
    "criptograma\n"
   ]
  },
  {
   "cell_type": "code",
   "execution_count": 143,
   "metadata": {},
   "outputs": [
    {
     "data": {
      "text/plain": [
       "1235"
      ]
     },
     "execution_count": 143,
     "metadata": {},
     "output_type": "execute_result"
    }
   ],
   "source": [
    "decifr = criptograma^d\n",
    "decifr"
   ]
  },
  {
   "cell_type": "markdown",
   "metadata": {},
   "source": [
    "OUTRO EXEMPLO "
   ]
  },
  {
   "cell_type": "code",
   "execution_count": 144,
   "metadata": {},
   "outputs": [
    {
     "data": {
      "text/plain": [
       "(225996322009264809607082387769683168501933553804397596662565913253261907863726735065397209489299473970014330268599514684187549841926893622743082504048633069861245269048974244292753169585660740055640913441920568341621275229745824525651328955221083430747671382695314217374460196993190853656852367776347381410413,\n",
       " 125482803424365321692426633452098049352070652449466205408905028783499915868899499741398392651007332628125242105864919784027923291668031822071599048021440238217948756271229325219381020187210268599906342996770519170117627836567416933160264726373959840431296820560034878908644361040813340083637436384095046822757)"
      ]
     },
     "execution_count": 144,
     "metadata": {},
     "output_type": "execute_result"
    }
   ],
   "source": [
    "p = random_prime(2^1025, lbound = 2^1024)\n",
    "q = random_prime(2^1024, lbound = 2^1023)\n",
    "p, q"
   ]
  },
  {
   "cell_type": "code",
   "execution_count": 145,
   "metadata": {},
   "outputs": [
    {
     "data": {
      "text/plain": [
       "(28358652049318142169524924993617687027621168726409266620951521215073829840021958889354946188781057152753067028572186773189170719351121638152439917221476859559195072705841047307259535089562046336913276256686047571411269718017172678703692935668688808801259876718450053002692404522837654279872769843805609894038024266261314066140884132372152651128202643308123618296465805249049452880611146646452499801528268678131638203145794623261751967189151452936024458026659738196030957002615074453047050479962993889530295693253031148705723194413667665922453628593506908069972684834949288300915557683287334316955750444368601085168641,\n",
       " 28358652049318142169524924993617687027621168726409266620951521215073829840021958889354946188781057152753067028572186773189170719351121638152439917221476859559195072705841047307259535089562046336913276256686047571411269718017172678703692935668688808801259876718450053002692404522837654279872769843805609894037672787135880436009584623350930869910348639101869754494394334307012691056878520411645704199387961871533498630771330188793536494055556527491209776474589664887951762977294870883534916290190122880874748436814340061193984291347354424463642034911911864798793716631693939204632453125253330123215260640208158656935472)"
      ]
     },
     "execution_count": 145,
     "metadata": {},
     "output_type": "execute_result"
    }
   ],
   "source": [
    "n = p*q\n",
    "m =  (p-1)*(q-1)\n",
    "\n",
    "n,m"
   ]
  },
  {
   "cell_type": "code",
   "execution_count": 161,
   "metadata": {},
   "outputs": [
    {
     "data": {
      "text/plain": [
       "1"
      ]
     },
     "execution_count": 161,
     "metadata": {},
     "output_type": "execute_result"
    }
   ],
   "source": [
    "'''for e in range(2, m):\n",
    "    if gcd(e,m) == 1:\n",
    "        break\n",
    "    else:\n",
    "        pass\n",
    "'''\n",
    "e = 2^16 + 1\n",
    "gcd(e,m)"
   ]
  },
  {
   "cell_type": "code",
   "execution_count": 162,
   "metadata": {},
   "outputs": [],
   "source": [
    "d = power_mod(e, -1, m)\n",
    "\n",
    "mens = 1235"
   ]
  },
  {
   "cell_type": "code",
   "execution_count": 163,
   "metadata": {},
   "outputs": [
    {
     "data": {
      "text/plain": [
       "26767553090636350047434646930685780437813569212762333223991537239487065439999755840170853506904033130988483842319320410425839709239018686718059796037098762781114488954029708350378658811586299835363815240215118304084166003439910689993598840309485355629989301231312135805763966987689493622003910992036868207957150886193137004732382479417147011925239980846360483757881737400958858230582099293536492919412465566564179280057011261687764356963318588559901149986554545514481526993524478037582267102510405918125427538233624203805905279514728280462951493416576196586010989701572846816149971038467716850562403179740729234084270"
      ]
     },
     "execution_count": 163,
     "metadata": {},
     "output_type": "execute_result"
    }
   ],
   "source": [
    "cifr = power_mod(mens, e, n)\n",
    "cifr"
   ]
  },
  {
   "cell_type": "code",
   "execution_count": 165,
   "metadata": {},
   "outputs": [
    {
     "data": {
      "text/plain": [
       "1235"
      ]
     },
     "execution_count": 165,
     "metadata": {},
     "output_type": "execute_result"
    }
   ],
   "source": [
    "decifr = power_mod(cifr, d, n)\n",
    "decifr"
   ]
  },
  {
   "cell_type": "code",
   "execution_count": 168,
   "metadata": {},
   "outputs": [],
   "source": [
    "def RSA_gen(nbits):\n",
    "    p = random_prime(2^(nbits//2+1), lbound=2^(nbits//2))\n",
    "    q = random_prime(2^(nbits//2), lbound=2^(nbits//2-1))\n",
    "    n = p*q\n",
    "    m = (p-1)*(q-1)\n",
    "    e = randint(2, m-1)\n",
    "    while gcd(e, m) != 1:\n",
    "        e = randint(2, m-1)\n",
    "    d = power_mod(e, -1, m)\n",
    "    PubKey = (n, e)\n",
    "    PrivKey = (n, d)\n",
    "    return PubKey, PrivKey\n",
    "\n",
    "def RSA_encrypt(PubKey, mens):\n",
    "    n, e = PubKey\n",
    "    return power_mod(mens, e, n)\n",
    "\n",
    "def RSA_decrypt(PrivKey, cripto):\n",
    "    n, d = PrivKey\n",
    "    return power_mod(cripto, d, n)\n",
    "    "
   ]
  },
  {
   "cell_type": "code",
   "execution_count": 169,
   "metadata": {},
   "outputs": [
    {
     "data": {
      "text/plain": [
       "((101181155923910383894739851159445492114852487153254346968381288730695046448151,\n",
       "  74508406893531332303731131910747736452579949062169058455893867509269086381715),\n",
       " (101181155923910383894739851159445492114852487153254346968381288730695046448151,\n",
       "  2434661545105251909799306503150456519778728621431735962939076708337276191435))"
      ]
     },
     "execution_count": 169,
     "metadata": {},
     "output_type": "execute_result"
    }
   ],
   "source": [
    "ChPub, ChPriv = RSA_gen(256)\n",
    "ChPub, ChPriv"
   ]
  },
  {
   "cell_type": "code",
   "execution_count": 170,
   "metadata": {},
   "outputs": [
    {
     "data": {
      "text/plain": [
       "1234"
      ]
     },
     "execution_count": 170,
     "metadata": {},
     "output_type": "execute_result"
    }
   ],
   "source": [
    "mens = 1234\n",
    "cifr = RSA_encrypt(ChPub, mens)\n",
    "RSA_decrypt(ChPriv, cifr)"
   ]
  },
  {
   "cell_type": "code",
   "execution_count": null,
   "metadata": {},
   "outputs": [],
   "source": []
  }
 ],
 "metadata": {
  "kernelspec": {
   "display_name": "SageMath 9.3",
   "language": "sage",
   "name": "sagemath"
  },
  "language_info": {
   "codemirror_mode": {
    "name": "ipython",
    "version": 3
   },
   "file_extension": ".py",
   "mimetype": "text/x-python",
   "name": "python",
   "nbconvert_exporter": "python",
   "pygments_lexer": "ipython3",
   "version": "3.7.10"
  }
 },
 "nbformat": 4,
 "nbformat_minor": 4
}
