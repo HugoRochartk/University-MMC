{
 "cells": [
  {
   "cell_type": "code",
   "execution_count": 1,
   "metadata": {},
   "outputs": [],
   "source": [
    "def pertence_SRR(x, n):\n",
    "    Zn = IntegerModRing(n)\n",
    "    res = [k for k in Zn if gcd(k,n) == 1]\n",
    "    return ((x in res), res)\n",
    "\n",
    "\n",
    "#verifica se x é raiz primitiva de n. se n tem raiz primitiva, n tem phi(phi(n)) RP's\n",
    "def e_RP(x, n):\n",
    "    Zn = IntegerModRing(n)\n",
    "    aux = Zn(x)\n",
    "    return (aux.multiplicative_order() == euler_phi(n))\n",
    "\n",
    "#diz o indice(root,a) modulo n.\n",
    "def indice(n,root,a):\n",
    "    Zn = IntegerModRing(n)\n",
    "    baixo = root\n",
    "    cima = a\n",
    "    return discrete_log(a,Zn(root))\n",
    "\n",
    "#calcular simbolo de legendre(a,b) pelo metodo de gauss\n",
    "\n",
    "def Lema_Gauss(a,b):\n",
    "    if(is_prime(b) == False or b == 2):\n",
    "        return f\"({a} | {b}) not possible to calculate. {b} is not prime or p = 2.\"\n",
    "    if (gcd(a,b) != 1):\n",
    "        return f\"not possible to apply Gauss, gcd({a}, {b}) is not 1\"\n",
    "    Zb = IntegerModRing(b)\n",
    "    L = [coef*a for coef in range(1, int( (b-1)/2 ) + 1 )]\n",
    "    L_vals = [Zb(elem) for elem in L]\n",
    "    L_s = [x for x in L_vals if int(x) > b/2]\n",
    "    s = len(L_s)\n",
    "    return( (-1)^s, L, L_vals, L_s, s)\n",
    "\n",
    "#verifica se n é pseudo primo Euler na base b\n",
    "def e_pseudo_primo_Euler(n, b):\n",
    "    if(gcd(n,b) != 1):\n",
    "        print(f\"cuidado com o {n}\")\n",
    "    if(is_prime(n)):\n",
    "        return False\n",
    "    Zn = IntegerModRing(n)\n",
    "    j_symbol = jacobi_symbol(b, n)\n",
    "    return (b^(int((n-1)/2)) % n == j_symbol % n)\n"
   ]
  },
  {
   "cell_type": "code",
   "execution_count": null,
   "metadata": {},
   "outputs": [],
   "source": []
  }
 ],
 "metadata": {
  "kernelspec": {
   "display_name": "SageMath 9.3",
   "language": "sage",
   "name": "sagemath"
  },
  "language_info": {
   "codemirror_mode": {
    "name": "ipython",
    "version": 3
   },
   "file_extension": ".py",
   "mimetype": "text/x-python",
   "name": "python",
   "nbconvert_exporter": "python",
   "pygments_lexer": "ipython3",
   "version": "3.7.10"
  }
 },
 "nbformat": 4,
 "nbformat_minor": 4
}
